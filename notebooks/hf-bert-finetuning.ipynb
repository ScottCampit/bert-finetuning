{
 "cells": [
  {
   "cell_type": "markdown",
   "metadata": {},
   "source": [
    "# "
   ]
  },
  {
   "cell_type": "markdown",
   "metadata": {},
   "source": [
    "# Fine-Tuning BERT Using HuggingFace\n",
    "\n",
    "## Summary\n",
    "This notebook covers a simple use-case, where we'll be fine-tuning a BERT model using the [HuggingFace](https://huggingface.co/) library. We'll also employ some MLOps best practices while fine-tuning our BERT model using [MLFlow](https://mlflow.org/). Finally, we'll deploy the model to a [HuggingFace Space](https://huggingface.co/spaces) so that it can run inference with a user interface."
   ]
  },
  {
   "cell_type": "code",
   "execution_count": 1,
   "metadata": {},
   "outputs": [
    {
     "name": "stdout",
     "output_type": "stream",
     "text": [
      "Looking in indexes: https://pypi.org/simple, https://pypi.ngc.nvidia.com\n",
      "Requirement already satisfied: huggingface_hub in /Users/scampit/Projects/torchstack/hf-finetuning/.venv/lib/python3.10/site-packages (0.22.2)\n",
      "Requirement already satisfied: transformers in /Users/scampit/Projects/torchstack/hf-finetuning/.venv/lib/python3.10/site-packages (4.40.1)\n",
      "Requirement already satisfied: datasets in /Users/scampit/Projects/torchstack/hf-finetuning/.venv/lib/python3.10/site-packages (2.19.0)\n",
      "Requirement already satisfied: evaluate in /Users/scampit/Projects/torchstack/hf-finetuning/.venv/lib/python3.10/site-packages (0.4.1)\n",
      "Requirement already satisfied: filelock in /Users/scampit/Projects/torchstack/hf-finetuning/.venv/lib/python3.10/site-packages (from huggingface_hub) (3.13.4)\n",
      "Requirement already satisfied: fsspec>=2023.5.0 in /Users/scampit/Projects/torchstack/hf-finetuning/.venv/lib/python3.10/site-packages (from huggingface_hub) (2024.3.1)\n",
      "Requirement already satisfied: packaging>=20.9 in /Users/scampit/Projects/torchstack/hf-finetuning/.venv/lib/python3.10/site-packages (from huggingface_hub) (24.0)\n",
      "Requirement already satisfied: pyyaml>=5.1 in /Users/scampit/Projects/torchstack/hf-finetuning/.venv/lib/python3.10/site-packages (from huggingface_hub) (6.0.1)\n",
      "Requirement already satisfied: requests in /Users/scampit/Projects/torchstack/hf-finetuning/.venv/lib/python3.10/site-packages (from huggingface_hub) (2.31.0)\n",
      "Requirement already satisfied: tqdm>=4.42.1 in /Users/scampit/Projects/torchstack/hf-finetuning/.venv/lib/python3.10/site-packages (from huggingface_hub) (4.66.2)\n",
      "Requirement already satisfied: typing-extensions>=3.7.4.3 in /Users/scampit/Projects/torchstack/hf-finetuning/.venv/lib/python3.10/site-packages (from huggingface_hub) (4.11.0)\n",
      "Requirement already satisfied: numpy>=1.17 in /Users/scampit/Projects/torchstack/hf-finetuning/.venv/lib/python3.10/site-packages (from transformers) (1.26.4)\n",
      "Requirement already satisfied: regex!=2019.12.17 in /Users/scampit/Projects/torchstack/hf-finetuning/.venv/lib/python3.10/site-packages (from transformers) (2024.4.28)\n",
      "Requirement already satisfied: tokenizers<0.20,>=0.19 in /Users/scampit/Projects/torchstack/hf-finetuning/.venv/lib/python3.10/site-packages (from transformers) (0.19.1)\n",
      "Requirement already satisfied: safetensors>=0.4.1 in /Users/scampit/Projects/torchstack/hf-finetuning/.venv/lib/python3.10/site-packages (from transformers) (0.4.3)\n",
      "Requirement already satisfied: pyarrow>=12.0.0 in /Users/scampit/Projects/torchstack/hf-finetuning/.venv/lib/python3.10/site-packages (from datasets) (15.0.2)\n",
      "Requirement already satisfied: pyarrow-hotfix in /Users/scampit/Projects/torchstack/hf-finetuning/.venv/lib/python3.10/site-packages (from datasets) (0.6)\n",
      "Requirement already satisfied: dill<0.3.9,>=0.3.0 in /Users/scampit/Projects/torchstack/hf-finetuning/.venv/lib/python3.10/site-packages (from datasets) (0.3.8)\n",
      "Requirement already satisfied: pandas in /Users/scampit/Projects/torchstack/hf-finetuning/.venv/lib/python3.10/site-packages (from datasets) (2.2.2)\n",
      "Requirement already satisfied: xxhash in /Users/scampit/Projects/torchstack/hf-finetuning/.venv/lib/python3.10/site-packages (from datasets) (3.4.1)\n",
      "Requirement already satisfied: multiprocess in /Users/scampit/Projects/torchstack/hf-finetuning/.venv/lib/python3.10/site-packages (from datasets) (0.70.16)\n",
      "Requirement already satisfied: aiohttp in /Users/scampit/Projects/torchstack/hf-finetuning/.venv/lib/python3.10/site-packages (from datasets) (3.9.5)\n",
      "Requirement already satisfied: responses<0.19 in /Users/scampit/Projects/torchstack/hf-finetuning/.venv/lib/python3.10/site-packages (from evaluate) (0.18.0)\n",
      "Requirement already satisfied: aiosignal>=1.1.2 in /Users/scampit/Projects/torchstack/hf-finetuning/.venv/lib/python3.10/site-packages (from aiohttp->datasets) (1.3.1)\n",
      "Requirement already satisfied: attrs>=17.3.0 in /Users/scampit/Projects/torchstack/hf-finetuning/.venv/lib/python3.10/site-packages (from aiohttp->datasets) (23.2.0)\n",
      "Requirement already satisfied: frozenlist>=1.1.1 in /Users/scampit/Projects/torchstack/hf-finetuning/.venv/lib/python3.10/site-packages (from aiohttp->datasets) (1.4.1)\n",
      "Requirement already satisfied: multidict<7.0,>=4.5 in /Users/scampit/Projects/torchstack/hf-finetuning/.venv/lib/python3.10/site-packages (from aiohttp->datasets) (6.0.5)\n",
      "Requirement already satisfied: yarl<2.0,>=1.0 in /Users/scampit/Projects/torchstack/hf-finetuning/.venv/lib/python3.10/site-packages (from aiohttp->datasets) (1.9.4)\n",
      "Requirement already satisfied: async-timeout<5.0,>=4.0 in /Users/scampit/Projects/torchstack/hf-finetuning/.venv/lib/python3.10/site-packages (from aiohttp->datasets) (4.0.3)\n",
      "Requirement already satisfied: charset-normalizer<4,>=2 in /Users/scampit/Projects/torchstack/hf-finetuning/.venv/lib/python3.10/site-packages (from requests->huggingface_hub) (3.3.2)\n",
      "Requirement already satisfied: idna<4,>=2.5 in /Users/scampit/Projects/torchstack/hf-finetuning/.venv/lib/python3.10/site-packages (from requests->huggingface_hub) (3.7)\n",
      "Requirement already satisfied: urllib3<3,>=1.21.1 in /Users/scampit/Projects/torchstack/hf-finetuning/.venv/lib/python3.10/site-packages (from requests->huggingface_hub) (2.2.1)\n",
      "Requirement already satisfied: certifi>=2017.4.17 in /Users/scampit/Projects/torchstack/hf-finetuning/.venv/lib/python3.10/site-packages (from requests->huggingface_hub) (2024.2.2)\n",
      "Requirement already satisfied: python-dateutil>=2.8.2 in /Users/scampit/Projects/torchstack/hf-finetuning/.venv/lib/python3.10/site-packages (from pandas->datasets) (2.9.0.post0)\n",
      "Requirement already satisfied: pytz>=2020.1 in /Users/scampit/Projects/torchstack/hf-finetuning/.venv/lib/python3.10/site-packages (from pandas->datasets) (2024.1)\n",
      "Requirement already satisfied: tzdata>=2022.7 in /Users/scampit/Projects/torchstack/hf-finetuning/.venv/lib/python3.10/site-packages (from pandas->datasets) (2024.1)\n",
      "Requirement already satisfied: six>=1.5 in /Users/scampit/Projects/torchstack/hf-finetuning/.venv/lib/python3.10/site-packages (from python-dateutil>=2.8.2->pandas->datasets) (1.16.0)\n",
      "Looking in indexes: https://pypi.org/simple, https://pypi.ngc.nvidia.com\n",
      "Requirement already satisfied: torch in /Users/scampit/Projects/torchstack/hf-finetuning/.venv/lib/python3.10/site-packages (2.3.0)\n",
      "Requirement already satisfied: torchvision in /Users/scampit/Projects/torchstack/hf-finetuning/.venv/lib/python3.10/site-packages (0.18.0)\n",
      "Requirement already satisfied: torchaudio in /Users/scampit/Projects/torchstack/hf-finetuning/.venv/lib/python3.10/site-packages (2.3.0)\n",
      "Requirement already satisfied: filelock in /Users/scampit/Projects/torchstack/hf-finetuning/.venv/lib/python3.10/site-packages (from torch) (3.13.4)\n",
      "Requirement already satisfied: typing-extensions>=4.8.0 in /Users/scampit/Projects/torchstack/hf-finetuning/.venv/lib/python3.10/site-packages (from torch) (4.11.0)\n",
      "Requirement already satisfied: sympy in /Users/scampit/Projects/torchstack/hf-finetuning/.venv/lib/python3.10/site-packages (from torch) (1.12)\n",
      "Requirement already satisfied: networkx in /Users/scampit/Projects/torchstack/hf-finetuning/.venv/lib/python3.10/site-packages (from torch) (3.3)\n",
      "Requirement already satisfied: jinja2 in /Users/scampit/Projects/torchstack/hf-finetuning/.venv/lib/python3.10/site-packages (from torch) (3.1.3)\n",
      "Requirement already satisfied: fsspec in /Users/scampit/Projects/torchstack/hf-finetuning/.venv/lib/python3.10/site-packages (from torch) (2024.3.1)\n",
      "Requirement already satisfied: numpy in /Users/scampit/Projects/torchstack/hf-finetuning/.venv/lib/python3.10/site-packages (from torchvision) (1.26.4)\n",
      "Requirement already satisfied: pillow!=8.3.*,>=5.3.0 in /Users/scampit/Projects/torchstack/hf-finetuning/.venv/lib/python3.10/site-packages (from torchvision) (10.3.0)\n",
      "Requirement already satisfied: MarkupSafe>=2.0 in /Users/scampit/Projects/torchstack/hf-finetuning/.venv/lib/python3.10/site-packages (from jinja2->torch) (2.1.5)\n",
      "Requirement already satisfied: mpmath>=0.19 in /Users/scampit/Projects/torchstack/hf-finetuning/.venv/lib/python3.10/site-packages (from sympy->torch) (1.3.0)\n",
      "Looking in indexes: https://pypi.org/simple, https://pypi.ngc.nvidia.com\n",
      "Requirement already satisfied: accelerate in /Users/scampit/Projects/torchstack/hf-finetuning/.venv/lib/python3.10/site-packages (0.29.3)\n",
      "Requirement already satisfied: numpy>=1.17 in /Users/scampit/Projects/torchstack/hf-finetuning/.venv/lib/python3.10/site-packages (from accelerate) (1.26.4)\n",
      "Requirement already satisfied: packaging>=20.0 in /Users/scampit/Projects/torchstack/hf-finetuning/.venv/lib/python3.10/site-packages (from accelerate) (24.0)\n",
      "Requirement already satisfied: psutil in /Users/scampit/Projects/torchstack/hf-finetuning/.venv/lib/python3.10/site-packages (from accelerate) (5.9.8)\n",
      "Requirement already satisfied: pyyaml in /Users/scampit/Projects/torchstack/hf-finetuning/.venv/lib/python3.10/site-packages (from accelerate) (6.0.1)\n",
      "Requirement already satisfied: torch>=1.10.0 in /Users/scampit/Projects/torchstack/hf-finetuning/.venv/lib/python3.10/site-packages (from accelerate) (2.3.0)\n",
      "Requirement already satisfied: huggingface-hub in /Users/scampit/Projects/torchstack/hf-finetuning/.venv/lib/python3.10/site-packages (from accelerate) (0.22.2)\n",
      "Requirement already satisfied: safetensors>=0.3.1 in /Users/scampit/Projects/torchstack/hf-finetuning/.venv/lib/python3.10/site-packages (from accelerate) (0.4.3)\n",
      "Requirement already satisfied: filelock in /Users/scampit/Projects/torchstack/hf-finetuning/.venv/lib/python3.10/site-packages (from torch>=1.10.0->accelerate) (3.13.4)\n",
      "Requirement already satisfied: typing-extensions>=4.8.0 in /Users/scampit/Projects/torchstack/hf-finetuning/.venv/lib/python3.10/site-packages (from torch>=1.10.0->accelerate) (4.11.0)\n",
      "Requirement already satisfied: sympy in /Users/scampit/Projects/torchstack/hf-finetuning/.venv/lib/python3.10/site-packages (from torch>=1.10.0->accelerate) (1.12)\n",
      "Requirement already satisfied: networkx in /Users/scampit/Projects/torchstack/hf-finetuning/.venv/lib/python3.10/site-packages (from torch>=1.10.0->accelerate) (3.3)\n",
      "Requirement already satisfied: jinja2 in /Users/scampit/Projects/torchstack/hf-finetuning/.venv/lib/python3.10/site-packages (from torch>=1.10.0->accelerate) (3.1.3)\n",
      "Requirement already satisfied: fsspec in /Users/scampit/Projects/torchstack/hf-finetuning/.venv/lib/python3.10/site-packages (from torch>=1.10.0->accelerate) (2024.3.1)\n",
      "Requirement already satisfied: requests in /Users/scampit/Projects/torchstack/hf-finetuning/.venv/lib/python3.10/site-packages (from huggingface-hub->accelerate) (2.31.0)\n",
      "Requirement already satisfied: tqdm>=4.42.1 in /Users/scampit/Projects/torchstack/hf-finetuning/.venv/lib/python3.10/site-packages (from huggingface-hub->accelerate) (4.66.2)\n",
      "Requirement already satisfied: MarkupSafe>=2.0 in /Users/scampit/Projects/torchstack/hf-finetuning/.venv/lib/python3.10/site-packages (from jinja2->torch>=1.10.0->accelerate) (2.1.5)\n",
      "Requirement already satisfied: charset-normalizer<4,>=2 in /Users/scampit/Projects/torchstack/hf-finetuning/.venv/lib/python3.10/site-packages (from requests->huggingface-hub->accelerate) (3.3.2)\n",
      "Requirement already satisfied: idna<4,>=2.5 in /Users/scampit/Projects/torchstack/hf-finetuning/.venv/lib/python3.10/site-packages (from requests->huggingface-hub->accelerate) (3.7)\n",
      "Requirement already satisfied: urllib3<3,>=1.21.1 in /Users/scampit/Projects/torchstack/hf-finetuning/.venv/lib/python3.10/site-packages (from requests->huggingface-hub->accelerate) (2.2.1)\n",
      "Requirement already satisfied: certifi>=2017.4.17 in /Users/scampit/Projects/torchstack/hf-finetuning/.venv/lib/python3.10/site-packages (from requests->huggingface-hub->accelerate) (2024.2.2)\n",
      "Requirement already satisfied: mpmath>=0.19 in /Users/scampit/Projects/torchstack/hf-finetuning/.venv/lib/python3.10/site-packages (from sympy->torch>=1.10.0->accelerate) (1.3.0)\n",
      "Looking in indexes: https://pypi.org/simple, https://pypi.ngc.nvidia.com\n",
      "Requirement already satisfied: scikit-learn in /Users/scampit/Projects/torchstack/hf-finetuning/.venv/lib/python3.10/site-packages (1.4.2)\n",
      "Requirement already satisfied: numpy>=1.19.5 in /Users/scampit/Projects/torchstack/hf-finetuning/.venv/lib/python3.10/site-packages (from scikit-learn) (1.26.4)\n",
      "Requirement already satisfied: scipy>=1.6.0 in /Users/scampit/Projects/torchstack/hf-finetuning/.venv/lib/python3.10/site-packages (from scikit-learn) (1.13.0)\n",
      "Requirement already satisfied: joblib>=1.2.0 in /Users/scampit/Projects/torchstack/hf-finetuning/.venv/lib/python3.10/site-packages (from scikit-learn) (1.4.0)\n",
      "Requirement already satisfied: threadpoolctl>=2.0.0 in /Users/scampit/Projects/torchstack/hf-finetuning/.venv/lib/python3.10/site-packages (from scikit-learn) (3.4.0)\n",
      "Looking in indexes: https://pypi.org/simple, https://pypi.ngc.nvidia.com\n",
      "Requirement already satisfied: mlflow in /Users/scampit/Projects/torchstack/hf-finetuning/.venv/lib/python3.10/site-packages (2.12.1)\n",
      "Requirement already satisfied: Flask<4 in /Users/scampit/Projects/torchstack/hf-finetuning/.venv/lib/python3.10/site-packages (from mlflow) (3.0.3)\n",
      "Requirement already satisfied: alembic!=1.10.0,<2 in /Users/scampit/Projects/torchstack/hf-finetuning/.venv/lib/python3.10/site-packages (from mlflow) (1.13.1)\n",
      "Requirement already satisfied: click<9,>=7.0 in /Users/scampit/Projects/torchstack/hf-finetuning/.venv/lib/python3.10/site-packages (from mlflow) (8.1.7)\n",
      "Requirement already satisfied: cloudpickle<4 in /Users/scampit/Projects/torchstack/hf-finetuning/.venv/lib/python3.10/site-packages (from mlflow) (3.0.0)\n",
      "Requirement already satisfied: docker<8,>=4.0.0 in /Users/scampit/Projects/torchstack/hf-finetuning/.venv/lib/python3.10/site-packages (from mlflow) (7.0.0)\n",
      "Requirement already satisfied: entrypoints<1 in /Users/scampit/Projects/torchstack/hf-finetuning/.venv/lib/python3.10/site-packages (from mlflow) (0.4)\n",
      "Requirement already satisfied: gitpython<4,>=3.1.9 in /Users/scampit/Projects/torchstack/hf-finetuning/.venv/lib/python3.10/site-packages (from mlflow) (3.1.43)\n",
      "Requirement already satisfied: graphene<4 in /Users/scampit/Projects/torchstack/hf-finetuning/.venv/lib/python3.10/site-packages (from mlflow) (3.3)\n",
      "Requirement already satisfied: importlib-metadata!=4.7.0,<8,>=3.7.0 in /Users/scampit/Projects/torchstack/hf-finetuning/.venv/lib/python3.10/site-packages (from mlflow) (7.1.0)\n",
      "Requirement already satisfied: markdown<4,>=3.3 in /Users/scampit/Projects/torchstack/hf-finetuning/.venv/lib/python3.10/site-packages (from mlflow) (3.6)\n",
      "Requirement already satisfied: matplotlib<4 in /Users/scampit/Projects/torchstack/hf-finetuning/.venv/lib/python3.10/site-packages (from mlflow) (3.8.4)\n",
      "Requirement already satisfied: numpy<2 in /Users/scampit/Projects/torchstack/hf-finetuning/.venv/lib/python3.10/site-packages (from mlflow) (1.26.4)\n",
      "Requirement already satisfied: packaging<25 in /Users/scampit/Projects/torchstack/hf-finetuning/.venv/lib/python3.10/site-packages (from mlflow) (24.0)\n",
      "Requirement already satisfied: pandas<3 in /Users/scampit/Projects/torchstack/hf-finetuning/.venv/lib/python3.10/site-packages (from mlflow) (2.2.2)\n",
      "Requirement already satisfied: protobuf<6,>=3.12.0 in /Users/scampit/Projects/torchstack/hf-finetuning/.venv/lib/python3.10/site-packages (from mlflow) (5.26.1)\n",
      "Requirement already satisfied: pyarrow<16,>=4.0.0 in /Users/scampit/Projects/torchstack/hf-finetuning/.venv/lib/python3.10/site-packages (from mlflow) (15.0.2)\n",
      "Requirement already satisfied: pytz<2025 in /Users/scampit/Projects/torchstack/hf-finetuning/.venv/lib/python3.10/site-packages (from mlflow) (2024.1)\n",
      "Requirement already satisfied: pyyaml<7,>=5.1 in /Users/scampit/Projects/torchstack/hf-finetuning/.venv/lib/python3.10/site-packages (from mlflow) (6.0.1)\n",
      "Requirement already satisfied: querystring-parser<2 in /Users/scampit/Projects/torchstack/hf-finetuning/.venv/lib/python3.10/site-packages (from mlflow) (1.2.4)\n",
      "Requirement already satisfied: requests<3,>=2.17.3 in /Users/scampit/Projects/torchstack/hf-finetuning/.venv/lib/python3.10/site-packages (from mlflow) (2.31.0)\n",
      "Requirement already satisfied: scikit-learn<2 in /Users/scampit/Projects/torchstack/hf-finetuning/.venv/lib/python3.10/site-packages (from mlflow) (1.4.2)\n",
      "Requirement already satisfied: scipy<2 in /Users/scampit/Projects/torchstack/hf-finetuning/.venv/lib/python3.10/site-packages (from mlflow) (1.13.0)\n",
      "Requirement already satisfied: sqlalchemy<3,>=1.4.0 in /Users/scampit/Projects/torchstack/hf-finetuning/.venv/lib/python3.10/site-packages (from mlflow) (2.0.29)\n",
      "Requirement already satisfied: sqlparse<1,>=0.4.0 in /Users/scampit/Projects/torchstack/hf-finetuning/.venv/lib/python3.10/site-packages (from mlflow) (0.5.0)\n",
      "Requirement already satisfied: Jinja2<4,>=2.11 in /Users/scampit/Projects/torchstack/hf-finetuning/.venv/lib/python3.10/site-packages (from mlflow) (3.1.3)\n",
      "Requirement already satisfied: gunicorn<22 in /Users/scampit/Projects/torchstack/hf-finetuning/.venv/lib/python3.10/site-packages (from mlflow) (21.2.0)\n",
      "Requirement already satisfied: Mako in /Users/scampit/Projects/torchstack/hf-finetuning/.venv/lib/python3.10/site-packages (from alembic!=1.10.0,<2->mlflow) (1.3.3)\n",
      "Requirement already satisfied: typing-extensions>=4 in /Users/scampit/Projects/torchstack/hf-finetuning/.venv/lib/python3.10/site-packages (from alembic!=1.10.0,<2->mlflow) (4.11.0)\n",
      "Requirement already satisfied: urllib3>=1.26.0 in /Users/scampit/Projects/torchstack/hf-finetuning/.venv/lib/python3.10/site-packages (from docker<8,>=4.0.0->mlflow) (2.2.1)\n",
      "Requirement already satisfied: Werkzeug>=3.0.0 in /Users/scampit/Projects/torchstack/hf-finetuning/.venv/lib/python3.10/site-packages (from Flask<4->mlflow) (3.0.2)\n",
      "Requirement already satisfied: itsdangerous>=2.1.2 in /Users/scampit/Projects/torchstack/hf-finetuning/.venv/lib/python3.10/site-packages (from Flask<4->mlflow) (2.2.0)\n",
      "Requirement already satisfied: blinker>=1.6.2 in /Users/scampit/Projects/torchstack/hf-finetuning/.venv/lib/python3.10/site-packages (from Flask<4->mlflow) (1.8.1)\n",
      "Requirement already satisfied: gitdb<5,>=4.0.1 in /Users/scampit/Projects/torchstack/hf-finetuning/.venv/lib/python3.10/site-packages (from gitpython<4,>=3.1.9->mlflow) (4.0.11)\n",
      "Requirement already satisfied: graphql-core<3.3,>=3.1 in /Users/scampit/Projects/torchstack/hf-finetuning/.venv/lib/python3.10/site-packages (from graphene<4->mlflow) (3.2.3)\n",
      "Requirement already satisfied: graphql-relay<3.3,>=3.1 in /Users/scampit/Projects/torchstack/hf-finetuning/.venv/lib/python3.10/site-packages (from graphene<4->mlflow) (3.2.0)\n",
      "Requirement already satisfied: aniso8601<10,>=8 in /Users/scampit/Projects/torchstack/hf-finetuning/.venv/lib/python3.10/site-packages (from graphene<4->mlflow) (9.0.1)\n",
      "Requirement already satisfied: zipp>=0.5 in /Users/scampit/Projects/torchstack/hf-finetuning/.venv/lib/python3.10/site-packages (from importlib-metadata!=4.7.0,<8,>=3.7.0->mlflow) (3.18.1)\n",
      "Requirement already satisfied: MarkupSafe>=2.0 in /Users/scampit/Projects/torchstack/hf-finetuning/.venv/lib/python3.10/site-packages (from Jinja2<4,>=2.11->mlflow) (2.1.5)\n",
      "Requirement already satisfied: contourpy>=1.0.1 in /Users/scampit/Projects/torchstack/hf-finetuning/.venv/lib/python3.10/site-packages (from matplotlib<4->mlflow) (1.2.1)\n",
      "Requirement already satisfied: cycler>=0.10 in /Users/scampit/Projects/torchstack/hf-finetuning/.venv/lib/python3.10/site-packages (from matplotlib<4->mlflow) (0.12.1)\n",
      "Requirement already satisfied: fonttools>=4.22.0 in /Users/scampit/Projects/torchstack/hf-finetuning/.venv/lib/python3.10/site-packages (from matplotlib<4->mlflow) (4.51.0)\n",
      "Requirement already satisfied: kiwisolver>=1.3.1 in /Users/scampit/Projects/torchstack/hf-finetuning/.venv/lib/python3.10/site-packages (from matplotlib<4->mlflow) (1.4.5)\n",
      "Requirement already satisfied: pillow>=8 in /Users/scampit/Projects/torchstack/hf-finetuning/.venv/lib/python3.10/site-packages (from matplotlib<4->mlflow) (10.3.0)\n",
      "Requirement already satisfied: pyparsing>=2.3.1 in /Users/scampit/Projects/torchstack/hf-finetuning/.venv/lib/python3.10/site-packages (from matplotlib<4->mlflow) (3.1.2)\n",
      "Requirement already satisfied: python-dateutil>=2.7 in /Users/scampit/Projects/torchstack/hf-finetuning/.venv/lib/python3.10/site-packages (from matplotlib<4->mlflow) (2.9.0.post0)\n",
      "Requirement already satisfied: tzdata>=2022.7 in /Users/scampit/Projects/torchstack/hf-finetuning/.venv/lib/python3.10/site-packages (from pandas<3->mlflow) (2024.1)\n",
      "Requirement already satisfied: six in /Users/scampit/Projects/torchstack/hf-finetuning/.venv/lib/python3.10/site-packages (from querystring-parser<2->mlflow) (1.16.0)\n",
      "Requirement already satisfied: charset-normalizer<4,>=2 in /Users/scampit/Projects/torchstack/hf-finetuning/.venv/lib/python3.10/site-packages (from requests<3,>=2.17.3->mlflow) (3.3.2)\n",
      "Requirement already satisfied: idna<4,>=2.5 in /Users/scampit/Projects/torchstack/hf-finetuning/.venv/lib/python3.10/site-packages (from requests<3,>=2.17.3->mlflow) (3.7)\n",
      "Requirement already satisfied: certifi>=2017.4.17 in /Users/scampit/Projects/torchstack/hf-finetuning/.venv/lib/python3.10/site-packages (from requests<3,>=2.17.3->mlflow) (2024.2.2)\n",
      "Requirement already satisfied: joblib>=1.2.0 in /Users/scampit/Projects/torchstack/hf-finetuning/.venv/lib/python3.10/site-packages (from scikit-learn<2->mlflow) (1.4.0)\n",
      "Requirement already satisfied: threadpoolctl>=2.0.0 in /Users/scampit/Projects/torchstack/hf-finetuning/.venv/lib/python3.10/site-packages (from scikit-learn<2->mlflow) (3.4.0)\n",
      "Requirement already satisfied: smmap<6,>=3.0.1 in /Users/scampit/Projects/torchstack/hf-finetuning/.venv/lib/python3.10/site-packages (from gitdb<5,>=4.0.1->gitpython<4,>=3.1.9->mlflow) (5.0.1)\n",
      "Looking in indexes: https://pypi.org/simple, https://pypi.ngc.nvidia.com\n",
      "Requirement already satisfied: ipywidgets in /Users/scampit/Projects/torchstack/hf-finetuning/.venv/lib/python3.10/site-packages (8.1.2)\n",
      "Requirement already satisfied: comm>=0.1.3 in /Users/scampit/Projects/torchstack/hf-finetuning/.venv/lib/python3.10/site-packages (from ipywidgets) (0.2.2)\n",
      "Requirement already satisfied: ipython>=6.1.0 in /Users/scampit/Projects/torchstack/hf-finetuning/.venv/lib/python3.10/site-packages (from ipywidgets) (8.24.0)\n",
      "Requirement already satisfied: traitlets>=4.3.1 in /Users/scampit/Projects/torchstack/hf-finetuning/.venv/lib/python3.10/site-packages (from ipywidgets) (5.14.3)\n",
      "Requirement already satisfied: widgetsnbextension~=4.0.10 in /Users/scampit/Projects/torchstack/hf-finetuning/.venv/lib/python3.10/site-packages (from ipywidgets) (4.0.10)\n",
      "Requirement already satisfied: jupyterlab-widgets~=3.0.10 in /Users/scampit/Projects/torchstack/hf-finetuning/.venv/lib/python3.10/site-packages (from ipywidgets) (3.0.10)\n",
      "Requirement already satisfied: decorator in /Users/scampit/Projects/torchstack/hf-finetuning/.venv/lib/python3.10/site-packages (from ipython>=6.1.0->ipywidgets) (5.1.1)\n",
      "Requirement already satisfied: jedi>=0.16 in /Users/scampit/Projects/torchstack/hf-finetuning/.venv/lib/python3.10/site-packages (from ipython>=6.1.0->ipywidgets) (0.19.1)\n",
      "Requirement already satisfied: matplotlib-inline in /Users/scampit/Projects/torchstack/hf-finetuning/.venv/lib/python3.10/site-packages (from ipython>=6.1.0->ipywidgets) (0.1.7)\n",
      "Requirement already satisfied: prompt-toolkit<3.1.0,>=3.0.41 in /Users/scampit/Projects/torchstack/hf-finetuning/.venv/lib/python3.10/site-packages (from ipython>=6.1.0->ipywidgets) (3.0.43)\n",
      "Requirement already satisfied: pygments>=2.4.0 in /Users/scampit/Projects/torchstack/hf-finetuning/.venv/lib/python3.10/site-packages (from ipython>=6.1.0->ipywidgets) (2.17.2)\n",
      "Requirement already satisfied: stack-data in /Users/scampit/Projects/torchstack/hf-finetuning/.venv/lib/python3.10/site-packages (from ipython>=6.1.0->ipywidgets) (0.6.3)\n",
      "Requirement already satisfied: exceptiongroup in /Users/scampit/Projects/torchstack/hf-finetuning/.venv/lib/python3.10/site-packages (from ipython>=6.1.0->ipywidgets) (1.2.1)\n",
      "Requirement already satisfied: typing-extensions>=4.6 in /Users/scampit/Projects/torchstack/hf-finetuning/.venv/lib/python3.10/site-packages (from ipython>=6.1.0->ipywidgets) (4.11.0)\n",
      "Requirement already satisfied: pexpect>4.3 in /Users/scampit/Projects/torchstack/hf-finetuning/.venv/lib/python3.10/site-packages (from ipython>=6.1.0->ipywidgets) (4.9.0)\n",
      "Requirement already satisfied: parso<0.9.0,>=0.8.3 in /Users/scampit/Projects/torchstack/hf-finetuning/.venv/lib/python3.10/site-packages (from jedi>=0.16->ipython>=6.1.0->ipywidgets) (0.8.4)\n",
      "Requirement already satisfied: ptyprocess>=0.5 in /Users/scampit/Projects/torchstack/hf-finetuning/.venv/lib/python3.10/site-packages (from pexpect>4.3->ipython>=6.1.0->ipywidgets) (0.7.0)\n",
      "Requirement already satisfied: wcwidth in /Users/scampit/Projects/torchstack/hf-finetuning/.venv/lib/python3.10/site-packages (from prompt-toolkit<3.1.0,>=3.0.41->ipython>=6.1.0->ipywidgets) (0.2.13)\n",
      "Requirement already satisfied: executing>=1.2.0 in /Users/scampit/Projects/torchstack/hf-finetuning/.venv/lib/python3.10/site-packages (from stack-data->ipython>=6.1.0->ipywidgets) (2.0.1)\n",
      "Requirement already satisfied: asttokens>=2.1.0 in /Users/scampit/Projects/torchstack/hf-finetuning/.venv/lib/python3.10/site-packages (from stack-data->ipython>=6.1.0->ipywidgets) (2.4.1)\n",
      "Requirement already satisfied: pure-eval in /Users/scampit/Projects/torchstack/hf-finetuning/.venv/lib/python3.10/site-packages (from stack-data->ipython>=6.1.0->ipywidgets) (0.2.2)\n",
      "Requirement already satisfied: six>=1.12.0 in /Users/scampit/Projects/torchstack/hf-finetuning/.venv/lib/python3.10/site-packages (from asttokens>=2.1.0->stack-data->ipython>=6.1.0->ipywidgets) (1.16.0)\n",
      "Looking in indexes: https://pypi.org/simple, https://pypi.ngc.nvidia.com\n",
      "Requirement already satisfied: huggingface_hub in /Users/scampit/Projects/torchstack/hf-finetuning/.venv/lib/python3.10/site-packages (0.22.2)\n",
      "Requirement already satisfied: filelock in /Users/scampit/Projects/torchstack/hf-finetuning/.venv/lib/python3.10/site-packages (from huggingface_hub) (3.13.4)\n",
      "Requirement already satisfied: fsspec>=2023.5.0 in /Users/scampit/Projects/torchstack/hf-finetuning/.venv/lib/python3.10/site-packages (from huggingface_hub) (2024.3.1)\n",
      "Requirement already satisfied: packaging>=20.9 in /Users/scampit/Projects/torchstack/hf-finetuning/.venv/lib/python3.10/site-packages (from huggingface_hub) (24.0)\n",
      "Requirement already satisfied: pyyaml>=5.1 in /Users/scampit/Projects/torchstack/hf-finetuning/.venv/lib/python3.10/site-packages (from huggingface_hub) (6.0.1)\n",
      "Requirement already satisfied: requests in /Users/scampit/Projects/torchstack/hf-finetuning/.venv/lib/python3.10/site-packages (from huggingface_hub) (2.31.0)\n",
      "Requirement already satisfied: tqdm>=4.42.1 in /Users/scampit/Projects/torchstack/hf-finetuning/.venv/lib/python3.10/site-packages (from huggingface_hub) (4.66.2)\n",
      "Requirement already satisfied: typing-extensions>=3.7.4.3 in /Users/scampit/Projects/torchstack/hf-finetuning/.venv/lib/python3.10/site-packages (from huggingface_hub) (4.11.0)\n",
      "Requirement already satisfied: charset-normalizer<4,>=2 in /Users/scampit/Projects/torchstack/hf-finetuning/.venv/lib/python3.10/site-packages (from requests->huggingface_hub) (3.3.2)\n",
      "Requirement already satisfied: idna<4,>=2.5 in /Users/scampit/Projects/torchstack/hf-finetuning/.venv/lib/python3.10/site-packages (from requests->huggingface_hub) (3.7)\n",
      "Requirement already satisfied: urllib3<3,>=1.21.1 in /Users/scampit/Projects/torchstack/hf-finetuning/.venv/lib/python3.10/site-packages (from requests->huggingface_hub) (2.2.1)\n",
      "Requirement already satisfied: certifi>=2017.4.17 in /Users/scampit/Projects/torchstack/hf-finetuning/.venv/lib/python3.10/site-packages (from requests->huggingface_hub) (2024.2.2)\n"
     ]
    }
   ],
   "source": [
    "#%%capture \n",
    "!pip install huggingface_hub transformers datasets evaluate\n",
    "!pip install torch torchvision torchaudio\n",
    "!pip install accelerate -U\n",
    "!pip install scikit-learn\n",
    "!pip install mlflow\n",
    "!pip install ipywidgets\n",
    "!pip install huggingface_hub"
   ]
  },
  {
   "cell_type": "code",
   "execution_count": 1,
   "metadata": {},
   "outputs": [],
   "source": [
    "import os\n",
    "import numpy as np\n",
    "\n",
    "from transformers import AutoTokenizer, AutoModelForSequenceClassification, TrainingArguments, Trainer\n",
    "from datasets import load_dataset, load_metric\n",
    "from huggingface_hub import notebook_login\n",
    "import matplotlib.pyplot as plt\n",
    "import evaluate\n",
    "import mlflow"
   ]
  },
  {
   "cell_type": "markdown",
   "metadata": {},
   "source": [
    "## What we'll do in this notebook\n",
    "We'll fine-tune this BERT model using the Twitter Financial News Sentiment dataset. This dataset is essentially a sentiment analysis related-problem, which consists of pairs of finance-related tweets and the general sentiment associated with the tweet. There are three classes: \n",
    "\n",
    "```\n",
    "\"0\": \"Bearish\",\n",
    "\"1\": \"Bullish\",\n",
    "\"2\": \"Neutral\"\n",
    "```"
   ]
  },
  {
   "cell_type": "code",
   "execution_count": 2,
   "metadata": {},
   "outputs": [],
   "source": [
    "%matplotlib inline "
   ]
  },
  {
   "cell_type": "markdown",
   "metadata": {},
   "source": [
    "## 1. Load the dataset\n",
    "We'll be using the Yelp review dataset and fine-tuning the BERT model on it. Let's load the dataset and view a single data point."
   ]
  },
  {
   "cell_type": "code",
   "execution_count": 3,
   "metadata": {},
   "outputs": [],
   "source": [
    "dataset = load_dataset(\"zeroshot/twitter-financial-news-sentiment\")"
   ]
  },
  {
   "cell_type": "code",
   "execution_count": 5,
   "metadata": {},
   "outputs": [
    {
     "data": {
      "text/plain": [
       "{'text': '$BYND - JPMorgan reels in expectations on Beyond Meat https://t.co/bd0xbFGjkT',\n",
       " 'label': 0}"
      ]
     },
     "execution_count": 5,
     "metadata": {},
     "output_type": "execute_result"
    }
   ],
   "source": [
    "dataset['train'][0]"
   ]
  },
  {
   "cell_type": "markdown",
   "metadata": {},
   "source": [
    "## 2. Process the dataset\n",
    "Next, we need to tokenize the dataset. We'll be using the BERT cased tokenizer to do this."
   ]
  },
  {
   "cell_type": "code",
   "execution_count": 6,
   "metadata": {},
   "outputs": [
    {
     "data": {
      "application/vnd.jupyter.widget-view+json": {
       "model_id": "3d43ea58f8824672b6bb3e92113e0d12",
       "version_major": 2,
       "version_minor": 0
      },
      "text/plain": [
       "Map:   0%|          | 0/2388 [00:00<?, ? examples/s]"
      ]
     },
     "metadata": {},
     "output_type": "display_data"
    }
   ],
   "source": [
    "def tokenize_function(examples):\n",
    "    return tokenizer(examples[\"text\"], padding=\"max_length\", truncation=True)\n",
    "tokenizer = AutoTokenizer.from_pretrained(\"google-bert/bert-base-uncased\")\n",
    "tokenized_datasets = dataset.map(tokenize_function, batched=True)"
   ]
  },
  {
   "cell_type": "markdown",
   "metadata": {},
   "source": [
    "Since this notebook is simply designed to demonstrate how to fine-tune a cased BERT model, we'll select 100 random examples for the fine-tuning and evaluation step."
   ]
  },
  {
   "cell_type": "code",
   "execution_count": 7,
   "metadata": {},
   "outputs": [],
   "source": [
    "small_train_dataset = tokenized_datasets[\"train\"].shuffle(seed=42).select(range(1000))\n",
    "small_eval_dataset = tokenized_datasets[\"validation\"].shuffle(seed=42).select(range(1000))"
   ]
  },
  {
   "cell_type": "code",
   "execution_count": 19,
   "metadata": {},
   "outputs": [
    {
     "data": {
      "text/plain": [
       "Dataset({\n",
       "    features: ['text', 'label', 'input_ids', 'token_type_ids', 'attention_mask'],\n",
       "    num_rows: 1000\n",
       "})"
      ]
     },
     "execution_count": 19,
     "metadata": {},
     "output_type": "execute_result"
    }
   ],
   "source": [
    "small_eval_dataset"
   ]
  },
  {
   "cell_type": "markdown",
   "metadata": {},
   "source": [
    "## 3. Load BERT\n",
    "We'll load the BERT model from the Huggingface library. "
   ]
  },
  {
   "cell_type": "code",
   "execution_count": 8,
   "metadata": {},
   "outputs": [
    {
     "name": "stderr",
     "output_type": "stream",
     "text": [
      "Some weights of BertForSequenceClassification were not initialized from the model checkpoint at google-bert/bert-base-uncased and are newly initialized: ['classifier.bias', 'classifier.weight']\n",
      "You should probably TRAIN this model on a down-stream task to be able to use it for predictions and inference.\n"
     ]
    }
   ],
   "source": [
    "model = AutoModelForSequenceClassification.from_pretrained(\"google-bert/bert-base-uncased\", num_labels=3)"
   ]
  },
  {
   "cell_type": "markdown",
   "metadata": {},
   "source": [
    "## 4. Benchmark the Naive BERT Model"
   ]
  },
  {
   "cell_type": "markdown",
   "metadata": {},
   "source": [
    "Since this is a multi-class classification problem, we'll use accuracy as a metric for evaluation."
   ]
  },
  {
   "cell_type": "code",
   "execution_count": 9,
   "metadata": {},
   "outputs": [],
   "source": [
    "metric = evaluate.load(\"accuracy\")"
   ]
  },
  {
   "cell_type": "markdown",
   "metadata": {},
   "source": [
    "Let's set up the inference function for the benchmarking."
   ]
  },
  {
   "cell_type": "code",
   "execution_count": 26,
   "metadata": {},
   "outputs": [],
   "source": [
    "import torch\n",
    "\n",
    "device = \"cuda\" if torch.cuda.is_available() else \"cpu\"\n",
    "model.to(device)\n",
    "\n",
    "def predict(examples):\n",
    "    \n",
    "    inputs = {k: torch.tensor(v).to(device) for k, v in examples.items() if k in ['input_ids', 'attention_mask', 'token_type_ids']}\n",
    "    labels = examples['label']\n",
    "    \n",
    "    model.eval()\n",
    "    with torch.no_grad():\n",
    "        outputs = model(**inputs)\n",
    "    \n",
    "    logits = outputs.logits.detach().cpu().numpy()\n",
    "    predictions = np.argmax(logits, axis=-1)\n",
    "    return {'predictions': predictions, 'labels': labels}"
   ]
  },
  {
   "cell_type": "markdown",
   "metadata": {},
   "source": [
    "We'll run this inference function on the evaluation dataset."
   ]
  },
  {
   "cell_type": "code",
   "execution_count": 27,
   "metadata": {},
   "outputs": [
    {
     "data": {
      "application/vnd.jupyter.widget-view+json": {
       "model_id": "f0d13edcca834300adec751145bdfb78",
       "version_major": 2,
       "version_minor": 0
      },
      "text/plain": [
       "Inference:   0%|          | 0/1000 [00:00<?, ? examples/s]"
      ]
     },
     "metadata": {},
     "output_type": "display_data"
    }
   ],
   "source": [
    "results = small_eval_dataset.map(\n",
    "    predict, \n",
    "    batched=True,\n",
    "    load_from_cache_file=False,\n",
    "    desc=\"Inference\"\n",
    ")"
   ]
  },
  {
   "cell_type": "markdown",
   "metadata": {},
   "source": [
    "Now we'll report the average accuracy on the evaluation dataset."
   ]
  },
  {
   "cell_type": "code",
   "execution_count": 25,
   "metadata": {},
   "outputs": [],
   "source": [
    "def benchmark_metrics(results):\n",
    "    predictions = results['predictions']\n",
    "    labels = results['labels']\n",
    "    return metric.compute(predictions=predictions, references=labels)"
   ]
  },
  {
   "cell_type": "code",
   "execution_count": 24,
   "metadata": {},
   "outputs": [
    {
     "name": "stdout",
     "output_type": "stream",
     "text": [
      "Average evaluation accuracy (before fine-tuning): {'accuracy': 0.629}\n"
     ]
    }
   ],
   "source": [
    "accuracy = benchmark_metrics(results)\n",
    "print(\"Average evaluation accuracy (before fine-tuning):\", accuracy)"
   ]
  },
  {
   "cell_type": "markdown",
   "metadata": {},
   "source": [
    "## 5. Prepare the BERT model for Fine-Tuning\n"
   ]
  },
  {
   "cell_type": "markdown",
   "metadata": {},
   "source": [
    "First we'll set up the evaluation function."
   ]
  },
  {
   "cell_type": "code",
   "execution_count": null,
   "metadata": {},
   "outputs": [],
   "source": [
    "def compute_metrics(eval_pred):\n",
    "    logits, labels = eval_pred\n",
    "    predictions = np.argmax(logits, axis=-1)\n",
    "    return metric.compute(predictions=predictions, references=labels)"
   ]
  },
  {
   "cell_type": "markdown",
   "metadata": {},
   "source": [
    "We'll also set up the training arguments. This model will be pushed to the `hf-bert-finetuning` repository on HF."
   ]
  },
  {
   "cell_type": "code",
   "execution_count": 15,
   "metadata": {},
   "outputs": [],
   "source": [
    "training_args = TrainingArguments(\n",
    "    hub_model_id=\"hf-bert-finetuning\",\n",
    "    do_train=True,\n",
    "    output_dir=\"bert-twitter-reviews\",\n",
    "    num_train_epochs=100,\n",
    "    evaluation_strategy=\"steps\",\n",
    "    save_strategy=\"steps\",\n",
    "    load_best_model_at_end=True,\n",
    ")"
   ]
  },
  {
   "cell_type": "markdown",
   "metadata": {},
   "source": [
    "Finally we'll set up a model Trainer object for BERT."
   ]
  },
  {
   "cell_type": "code",
   "execution_count": 18,
   "metadata": {},
   "outputs": [],
   "source": [
    "trainer = Trainer(\n",
    "    model=model,\n",
    "    args=training_args,\n",
    "    train_dataset=small_train_dataset,\n",
    "    eval_dataset=small_eval_dataset,\n",
    "    compute_metrics=compute_metrics,\n",
    ")"
   ]
  },
  {
   "cell_type": "markdown",
   "metadata": {},
   "source": [
    "## 6. Fine-tune the BERT model\n",
    "We'll be tracing the results using the MLFlow library."
   ]
  },
  {
   "cell_type": "code",
   "execution_count": 19,
   "metadata": {},
   "outputs": [
    {
     "name": "stderr",
     "output_type": "stream",
     "text": [
      "2024/05/03 20:45:39 INFO mlflow.tracking.fluent: Experiment with name 'bert-twitter-hf-finetuning' does not exist. Creating a new experiment.\n"
     ]
    },
    {
     "name": "stderr",
     "output_type": "stream",
     "text": [
      "huggingface/tokenizers: The current process just got forked, after parallelism has already been used. Disabling parallelism to avoid deadlocks...\n",
      "To disable this warning, you can either:\n",
      "\t- Avoid using `tokenizers` before the fork if possible\n",
      "\t- Explicitly set the environment variable TOKENIZERS_PARALLELISM=(true | false)\n",
      "huggingface/tokenizers: The current process just got forked, after parallelism has already been used. Disabling parallelism to avoid deadlocks...\n",
      "To disable this warning, you can either:\n",
      "\t- Avoid using `tokenizers` before the fork if possible\n",
      "\t- Explicitly set the environment variable TOKENIZERS_PARALLELISM=(true | false)\n",
      "huggingface/tokenizers: The current process just got forked, after parallelism has already been used. Disabling parallelism to avoid deadlocks...\n",
      "To disable this warning, you can either:\n",
      "\t- Avoid using `tokenizers` before the fork if possible\n",
      "\t- Explicitly set the environment variable TOKENIZERS_PARALLELISM=(true | false)\n",
      "huggingface/tokenizers: The current process just got forked, after parallelism has already been used. Disabling parallelism to avoid deadlocks...\n",
      "To disable this warning, you can either:\n",
      "\t- Avoid using `tokenizers` before the fork if possible\n",
      "\t- Explicitly set the environment variable TOKENIZERS_PARALLELISM=(true | false)\n"
     ]
    },
    {
     "data": {
      "application/vnd.jupyter.widget-view+json": {
       "model_id": "c4d492b7b6784c869a46e6e7ee1f4b98",
       "version_major": 2,
       "version_minor": 0
      },
      "text/plain": [
       "  0%|          | 0/12500 [00:00<?, ?it/s]"
      ]
     },
     "metadata": {},
     "output_type": "display_data"
    },
    {
     "name": "stdout",
     "output_type": "stream",
     "text": [
      "{'loss': 0.392, 'grad_norm': 247.40394592285156, 'learning_rate': 4.8e-05, 'epoch': 4.0}\n"
     ]
    },
    {
     "data": {
      "application/vnd.jupyter.widget-view+json": {
       "model_id": "f0474ced71e54df58d2845e4ead96fd1",
       "version_major": 2,
       "version_minor": 0
      },
      "text/plain": [
       "  0%|          | 0/125 [00:00<?, ?it/s]"
      ]
     },
     "metadata": {},
     "output_type": "display_data"
    },
    {
     "name": "stdout",
     "output_type": "stream",
     "text": [
      "{'eval_loss': 1.1766923666000366, 'eval_accuracy': 0.805, 'eval_runtime': 19.3691, 'eval_samples_per_second': 51.629, 'eval_steps_per_second': 6.454, 'epoch': 4.0}\n",
      "{'loss': 0.0421, 'grad_norm': 0.015540855936706066, 'learning_rate': 4.600000000000001e-05, 'epoch': 8.0}\n"
     ]
    },
    {
     "data": {
      "application/vnd.jupyter.widget-view+json": {
       "model_id": "dd23b8def6194ceebf15f8740cb727fb",
       "version_major": 2,
       "version_minor": 0
      },
      "text/plain": [
       "  0%|          | 0/125 [00:00<?, ?it/s]"
      ]
     },
     "metadata": {},
     "output_type": "display_data"
    },
    {
     "name": "stdout",
     "output_type": "stream",
     "text": [
      "{'eval_loss': 1.355499267578125, 'eval_accuracy': 0.814, 'eval_runtime': 18.5953, 'eval_samples_per_second': 53.777, 'eval_steps_per_second': 6.722, 'epoch': 8.0}\n",
      "{'loss': 0.0266, 'grad_norm': 0.0019573792815208435, 'learning_rate': 4.4000000000000006e-05, 'epoch': 12.0}\n"
     ]
    },
    {
     "data": {
      "application/vnd.jupyter.widget-view+json": {
       "model_id": "b7c704100b394887aad0e09bca69a9a8",
       "version_major": 2,
       "version_minor": 0
      },
      "text/plain": [
       "  0%|          | 0/125 [00:00<?, ?it/s]"
      ]
     },
     "metadata": {},
     "output_type": "display_data"
    },
    {
     "name": "stdout",
     "output_type": "stream",
     "text": [
      "{'eval_loss': 1.7733824253082275, 'eval_accuracy': 0.806, 'eval_runtime': 18.1965, 'eval_samples_per_second': 54.956, 'eval_steps_per_second': 6.869, 'epoch': 12.0}\n",
      "{'loss': 0.0066, 'grad_norm': 0.0009423840674571693, 'learning_rate': 4.2e-05, 'epoch': 16.0}\n"
     ]
    },
    {
     "data": {
      "application/vnd.jupyter.widget-view+json": {
       "model_id": "c2d03deb787c4234a9496bfa8fcc7e65",
       "version_major": 2,
       "version_minor": 0
      },
      "text/plain": [
       "  0%|          | 0/125 [00:00<?, ?it/s]"
      ]
     },
     "metadata": {},
     "output_type": "display_data"
    },
    {
     "name": "stdout",
     "output_type": "stream",
     "text": [
      "{'eval_loss': 1.6148501634597778, 'eval_accuracy': 0.818, 'eval_runtime': 18.2585, 'eval_samples_per_second': 54.769, 'eval_steps_per_second': 6.846, 'epoch': 16.0}\n",
      "{'loss': 0.0264, 'grad_norm': 156.8242645263672, 'learning_rate': 4e-05, 'epoch': 20.0}\n"
     ]
    },
    {
     "data": {
      "application/vnd.jupyter.widget-view+json": {
       "model_id": "f64b07a9424647e7a965e12b66f93936",
       "version_major": 2,
       "version_minor": 0
      },
      "text/plain": [
       "  0%|          | 0/125 [00:00<?, ?it/s]"
      ]
     },
     "metadata": {},
     "output_type": "display_data"
    },
    {
     "name": "stdout",
     "output_type": "stream",
     "text": [
      "{'eval_loss': 1.4582619667053223, 'eval_accuracy': 0.823, 'eval_runtime': 18.9578, 'eval_samples_per_second': 52.749, 'eval_steps_per_second': 6.594, 'epoch': 20.0}\n",
      "{'loss': 0.0284, 'grad_norm': 0.0019762106239795685, 'learning_rate': 3.8e-05, 'epoch': 24.0}\n"
     ]
    },
    {
     "data": {
      "application/vnd.jupyter.widget-view+json": {
       "model_id": "da4d9651b96547a389cfb4ae80b9f8e7",
       "version_major": 2,
       "version_minor": 0
      },
      "text/plain": [
       "  0%|          | 0/125 [00:00<?, ?it/s]"
      ]
     },
     "metadata": {},
     "output_type": "display_data"
    },
    {
     "name": "stdout",
     "output_type": "stream",
     "text": [
      "{'eval_loss': 1.8117482662200928, 'eval_accuracy': 0.794, 'eval_runtime': 18.0406, 'eval_samples_per_second': 55.431, 'eval_steps_per_second': 6.929, 'epoch': 24.0}\n",
      "{'loss': 0.0019, 'grad_norm': 47.1126594543457, 'learning_rate': 3.6e-05, 'epoch': 28.0}\n"
     ]
    },
    {
     "data": {
      "application/vnd.jupyter.widget-view+json": {
       "model_id": "b368b158c13c400b96bd3033e2112b0a",
       "version_major": 2,
       "version_minor": 0
      },
      "text/plain": [
       "  0%|          | 0/125 [00:00<?, ?it/s]"
      ]
     },
     "metadata": {},
     "output_type": "display_data"
    },
    {
     "name": "stdout",
     "output_type": "stream",
     "text": [
      "{'eval_loss': 1.8568534851074219, 'eval_accuracy': 0.804, 'eval_runtime': 17.9876, 'eval_samples_per_second': 55.594, 'eval_steps_per_second': 6.949, 'epoch': 28.0}\n",
      "{'loss': 0.0336, 'grad_norm': 0.0007475538877770305, 'learning_rate': 3.4000000000000007e-05, 'epoch': 32.0}\n"
     ]
    },
    {
     "data": {
      "application/vnd.jupyter.widget-view+json": {
       "model_id": "67c5b84c00f04a058fcb80f62eec7b27",
       "version_major": 2,
       "version_minor": 0
      },
      "text/plain": [
       "  0%|          | 0/125 [00:00<?, ?it/s]"
      ]
     },
     "metadata": {},
     "output_type": "display_data"
    },
    {
     "name": "stdout",
     "output_type": "stream",
     "text": [
      "{'eval_loss': 1.8200238943099976, 'eval_accuracy': 0.801, 'eval_runtime': 18.1386, 'eval_samples_per_second': 55.131, 'eval_steps_per_second': 6.891, 'epoch': 32.0}\n",
      "{'loss': 0.0221, 'grad_norm': 0.004694707226008177, 'learning_rate': 3.2000000000000005e-05, 'epoch': 36.0}\n"
     ]
    },
    {
     "data": {
      "application/vnd.jupyter.widget-view+json": {
       "model_id": "1af00d421c7d496e9a780b33d573d8c8",
       "version_major": 2,
       "version_minor": 0
      },
      "text/plain": [
       "  0%|          | 0/125 [00:00<?, ?it/s]"
      ]
     },
     "metadata": {},
     "output_type": "display_data"
    },
    {
     "name": "stdout",
     "output_type": "stream",
     "text": [
      "{'eval_loss': 1.8081655502319336, 'eval_accuracy': 0.806, 'eval_runtime': 18.725, 'eval_samples_per_second': 53.404, 'eval_steps_per_second': 6.676, 'epoch': 36.0}\n",
      "{'loss': 0.0195, 'grad_norm': 0.0007012580172158778, 'learning_rate': 3e-05, 'epoch': 40.0}\n"
     ]
    },
    {
     "data": {
      "application/vnd.jupyter.widget-view+json": {
       "model_id": "9f4fbebee43b4a87a91cd04d5a2885b3",
       "version_major": 2,
       "version_minor": 0
      },
      "text/plain": [
       "  0%|          | 0/125 [00:00<?, ?it/s]"
      ]
     },
     "metadata": {},
     "output_type": "display_data"
    },
    {
     "name": "stdout",
     "output_type": "stream",
     "text": [
      "{'eval_loss': 1.8102014064788818, 'eval_accuracy': 0.81, 'eval_runtime': 18.8194, 'eval_samples_per_second': 53.137, 'eval_steps_per_second': 6.642, 'epoch': 40.0}\n",
      "{'loss': 0.007, 'grad_norm': 0.0003919847367797047, 'learning_rate': 2.8000000000000003e-05, 'epoch': 44.0}\n"
     ]
    },
    {
     "data": {
      "application/vnd.jupyter.widget-view+json": {
       "model_id": "01205102af584d46bbdd5903bea517f4",
       "version_major": 2,
       "version_minor": 0
      },
      "text/plain": [
       "  0%|          | 0/125 [00:00<?, ?it/s]"
      ]
     },
     "metadata": {},
     "output_type": "display_data"
    },
    {
     "name": "stdout",
     "output_type": "stream",
     "text": [
      "{'eval_loss': 1.9711878299713135, 'eval_accuracy': 0.82, 'eval_runtime': 18.3883, 'eval_samples_per_second': 54.383, 'eval_steps_per_second': 6.798, 'epoch': 44.0}\n",
      "{'loss': 0.0028, 'grad_norm': 0.0006844488088972867, 'learning_rate': 2.6000000000000002e-05, 'epoch': 48.0}\n"
     ]
    },
    {
     "data": {
      "application/vnd.jupyter.widget-view+json": {
       "model_id": "145a787424eb4e80b8ee762f6822f07d",
       "version_major": 2,
       "version_minor": 0
      },
      "text/plain": [
       "  0%|          | 0/125 [00:00<?, ?it/s]"
      ]
     },
     "metadata": {},
     "output_type": "display_data"
    },
    {
     "name": "stdout",
     "output_type": "stream",
     "text": [
      "{'eval_loss': 1.8803038597106934, 'eval_accuracy': 0.818, 'eval_runtime': 18.3683, 'eval_samples_per_second': 54.442, 'eval_steps_per_second': 6.805, 'epoch': 48.0}\n",
      "{'loss': 0.0017, 'grad_norm': 0.00019511758000589907, 'learning_rate': 2.4e-05, 'epoch': 52.0}\n"
     ]
    },
    {
     "data": {
      "application/vnd.jupyter.widget-view+json": {
       "model_id": "bda5b0f1bff24f40ba4defc18122633d",
       "version_major": 2,
       "version_minor": 0
      },
      "text/plain": [
       "  0%|          | 0/125 [00:00<?, ?it/s]"
      ]
     },
     "metadata": {},
     "output_type": "display_data"
    },
    {
     "name": "stdout",
     "output_type": "stream",
     "text": [
      "{'eval_loss': 1.9738965034484863, 'eval_accuracy': 0.82, 'eval_runtime': 18.6678, 'eval_samples_per_second': 53.568, 'eval_steps_per_second': 6.696, 'epoch': 52.0}\n",
      "{'loss': 0.0, 'grad_norm': 0.00021234684390947223, 'learning_rate': 2.2000000000000003e-05, 'epoch': 56.0}\n"
     ]
    },
    {
     "data": {
      "application/vnd.jupyter.widget-view+json": {
       "model_id": "ce932d079d314876a418ef2326ef4826",
       "version_major": 2,
       "version_minor": 0
      },
      "text/plain": [
       "  0%|          | 0/125 [00:00<?, ?it/s]"
      ]
     },
     "metadata": {},
     "output_type": "display_data"
    },
    {
     "name": "stdout",
     "output_type": "stream",
     "text": [
      "{'eval_loss': 2.0170819759368896, 'eval_accuracy': 0.821, 'eval_runtime': 17.7078, 'eval_samples_per_second': 56.472, 'eval_steps_per_second': 7.059, 'epoch': 56.0}\n",
      "{'loss': 0.019, 'grad_norm': 0.001313855405896902, 'learning_rate': 2e-05, 'epoch': 60.0}\n"
     ]
    },
    {
     "data": {
      "application/vnd.jupyter.widget-view+json": {
       "model_id": "c8a4a1bf307a44c2bb3126f9fe9ca3e8",
       "version_major": 2,
       "version_minor": 0
      },
      "text/plain": [
       "  0%|          | 0/125 [00:00<?, ?it/s]"
      ]
     },
     "metadata": {},
     "output_type": "display_data"
    },
    {
     "name": "stdout",
     "output_type": "stream",
     "text": [
      "{'eval_loss': 1.9016902446746826, 'eval_accuracy': 0.805, 'eval_runtime': 17.7787, 'eval_samples_per_second': 56.247, 'eval_steps_per_second': 7.031, 'epoch': 60.0}\n",
      "{'loss': 0.0, 'grad_norm': 0.00015571678522974253, 'learning_rate': 1.8e-05, 'epoch': 64.0}\n"
     ]
    },
    {
     "data": {
      "application/vnd.jupyter.widget-view+json": {
       "model_id": "2cb96d3e38624e4aa4794c51842235b1",
       "version_major": 2,
       "version_minor": 0
      },
      "text/plain": [
       "  0%|          | 0/125 [00:00<?, ?it/s]"
      ]
     },
     "metadata": {},
     "output_type": "display_data"
    },
    {
     "name": "stdout",
     "output_type": "stream",
     "text": [
      "{'eval_loss': 2.0913753509521484, 'eval_accuracy': 0.801, 'eval_runtime': 17.7801, 'eval_samples_per_second': 56.243, 'eval_steps_per_second': 7.03, 'epoch': 64.0}\n",
      "{'loss': 0.0, 'grad_norm': 0.00012298842193558812, 'learning_rate': 1.6000000000000003e-05, 'epoch': 68.0}\n"
     ]
    },
    {
     "data": {
      "application/vnd.jupyter.widget-view+json": {
       "model_id": "fdb4368555374d1799acd9754b610c0c",
       "version_major": 2,
       "version_minor": 0
      },
      "text/plain": [
       "  0%|          | 0/125 [00:00<?, ?it/s]"
      ]
     },
     "metadata": {},
     "output_type": "display_data"
    },
    {
     "name": "stdout",
     "output_type": "stream",
     "text": [
      "{'eval_loss': 2.145298480987549, 'eval_accuracy': 0.799, 'eval_runtime': 17.7332, 'eval_samples_per_second': 56.391, 'eval_steps_per_second': 7.049, 'epoch': 68.0}\n",
      "{'loss': 0.0061, 'grad_norm': 0.002861259737983346, 'learning_rate': 1.4000000000000001e-05, 'epoch': 72.0}\n"
     ]
    },
    {
     "data": {
      "application/vnd.jupyter.widget-view+json": {
       "model_id": "635ed3479c984e748597c7f91cff3498",
       "version_major": 2,
       "version_minor": 0
      },
      "text/plain": [
       "  0%|          | 0/125 [00:00<?, ?it/s]"
      ]
     },
     "metadata": {},
     "output_type": "display_data"
    },
    {
     "name": "stdout",
     "output_type": "stream",
     "text": [
      "{'eval_loss': 2.2067182064056396, 'eval_accuracy': 0.786, 'eval_runtime': 17.7063, 'eval_samples_per_second': 56.477, 'eval_steps_per_second': 7.06, 'epoch': 72.0}\n",
      "{'loss': 0.0009, 'grad_norm': 0.00029816554160788655, 'learning_rate': 1.2e-05, 'epoch': 76.0}\n"
     ]
    },
    {
     "data": {
      "application/vnd.jupyter.widget-view+json": {
       "model_id": "67bc662512ec4ef6a6f91f64d46cae24",
       "version_major": 2,
       "version_minor": 0
      },
      "text/plain": [
       "  0%|          | 0/125 [00:00<?, ?it/s]"
      ]
     },
     "metadata": {},
     "output_type": "display_data"
    },
    {
     "name": "stdout",
     "output_type": "stream",
     "text": [
      "{'eval_loss': 2.1612367630004883, 'eval_accuracy': 0.799, 'eval_runtime': 17.7536, 'eval_samples_per_second': 56.327, 'eval_steps_per_second': 7.041, 'epoch': 76.0}\n",
      "{'loss': 0.0026, 'grad_norm': 0.00021957175340503454, 'learning_rate': 1e-05, 'epoch': 80.0}\n"
     ]
    },
    {
     "data": {
      "application/vnd.jupyter.widget-view+json": {
       "model_id": "c11a9fc8d8fb48d3b4715dee1bf1abcb",
       "version_major": 2,
       "version_minor": 0
      },
      "text/plain": [
       "  0%|          | 0/125 [00:00<?, ?it/s]"
      ]
     },
     "metadata": {},
     "output_type": "display_data"
    },
    {
     "name": "stdout",
     "output_type": "stream",
     "text": [
      "{'eval_loss': 2.1481127738952637, 'eval_accuracy': 0.807, 'eval_runtime': 17.7425, 'eval_samples_per_second': 56.362, 'eval_steps_per_second': 7.045, 'epoch': 80.0}\n",
      "{'loss': 0.0, 'grad_norm': 0.00016110936121549457, 'learning_rate': 8.000000000000001e-06, 'epoch': 84.0}\n"
     ]
    },
    {
     "data": {
      "application/vnd.jupyter.widget-view+json": {
       "model_id": "d0c99c5d981043368124a50291a56439",
       "version_major": 2,
       "version_minor": 0
      },
      "text/plain": [
       "  0%|          | 0/125 [00:00<?, ?it/s]"
      ]
     },
     "metadata": {},
     "output_type": "display_data"
    },
    {
     "name": "stdout",
     "output_type": "stream",
     "text": [
      "{'eval_loss': 2.181349992752075, 'eval_accuracy': 0.807, 'eval_runtime': 17.6884, 'eval_samples_per_second': 56.534, 'eval_steps_per_second': 7.067, 'epoch': 84.0}\n",
      "{'loss': 0.0, 'grad_norm': 9.635369497118518e-05, 'learning_rate': 6e-06, 'epoch': 88.0}\n"
     ]
    },
    {
     "data": {
      "application/vnd.jupyter.widget-view+json": {
       "model_id": "8cd5060c2e254cbf94967921edf48ab4",
       "version_major": 2,
       "version_minor": 0
      },
      "text/plain": [
       "  0%|          | 0/125 [00:00<?, ?it/s]"
      ]
     },
     "metadata": {},
     "output_type": "display_data"
    },
    {
     "name": "stdout",
     "output_type": "stream",
     "text": [
      "{'eval_loss': 2.2068872451782227, 'eval_accuracy': 0.807, 'eval_runtime': 18.7765, 'eval_samples_per_second': 53.258, 'eval_steps_per_second': 6.657, 'epoch': 88.0}\n",
      "{'loss': 0.0, 'grad_norm': 5.893736670259386e-05, 'learning_rate': 4.000000000000001e-06, 'epoch': 92.0}\n"
     ]
    },
    {
     "data": {
      "application/vnd.jupyter.widget-view+json": {
       "model_id": "d16037ec6cc541449c14f0b81ff7c55d",
       "version_major": 2,
       "version_minor": 0
      },
      "text/plain": [
       "  0%|          | 0/125 [00:00<?, ?it/s]"
      ]
     },
     "metadata": {},
     "output_type": "display_data"
    },
    {
     "name": "stdout",
     "output_type": "stream",
     "text": [
      "{'eval_loss': 2.2284891605377197, 'eval_accuracy': 0.807, 'eval_runtime': 18.3671, 'eval_samples_per_second': 54.445, 'eval_steps_per_second': 6.806, 'epoch': 92.0}\n",
      "{'loss': 0.0, 'grad_norm': 8.529423212166876e-05, 'learning_rate': 2.0000000000000003e-06, 'epoch': 96.0}\n"
     ]
    },
    {
     "data": {
      "application/vnd.jupyter.widget-view+json": {
       "model_id": "ea9b5f3511bb4dc9b5b2e08b6cab71f8",
       "version_major": 2,
       "version_minor": 0
      },
      "text/plain": [
       "  0%|          | 0/125 [00:00<?, ?it/s]"
      ]
     },
     "metadata": {},
     "output_type": "display_data"
    },
    {
     "name": "stdout",
     "output_type": "stream",
     "text": [
      "{'eval_loss': 2.2421679496765137, 'eval_accuracy': 0.807, 'eval_runtime': 18.3433, 'eval_samples_per_second': 54.516, 'eval_steps_per_second': 6.814, 'epoch': 96.0}\n",
      "{'loss': 0.0004, 'grad_norm': 6.160473276395351e-05, 'learning_rate': 0.0, 'epoch': 100.0}\n"
     ]
    },
    {
     "data": {
      "application/vnd.jupyter.widget-view+json": {
       "model_id": "75e0d44c31e6438881be5853531428be",
       "version_major": 2,
       "version_minor": 0
      },
      "text/plain": [
       "  0%|          | 0/125 [00:00<?, ?it/s]"
      ]
     },
     "metadata": {},
     "output_type": "display_data"
    },
    {
     "name": "stdout",
     "output_type": "stream",
     "text": [
      "{'eval_loss': 2.267164945602417, 'eval_accuracy': 0.805, 'eval_runtime': 18.5209, 'eval_samples_per_second': 53.993, 'eval_steps_per_second': 6.749, 'epoch': 100.0}\n",
      "{'train_runtime': 7125.9203, 'train_samples_per_second': 14.033, 'train_steps_per_second': 1.754, 'train_loss': 0.0255919159360975, 'epoch': 100.0}\n"
     ]
    }
   ],
   "source": [
    "os.environ[\"MLFLOW_EXPERIMENT_NAME\"] = \"bert-twitter-hf-finetuning\"\n",
    "os.environ[\"MLFLOW_FLATTEN_PARAMS\"] = \"1\"\n",
    "\n",
    "trainer.train()\n",
    "mlflow.end_run()"
   ]
  },
  {
   "cell_type": "markdown",
   "metadata": {},
   "source": [
    "## 7. Evaluate the fine-tuned model"
   ]
  },
  {
   "cell_type": "markdown",
   "metadata": {},
   "source": [
    "First, let's load the model from the latest checkpoint."
   ]
  },
  {
   "cell_type": "code",
   "execution_count": 32,
   "metadata": {},
   "outputs": [],
   "source": [
    "checkpoint_path = \"bert-twitter-reviews/checkpoint-12500/\"\n",
    "model = AutoModelForSequenceClassification.from_pretrained(checkpoint_path)"
   ]
  },
  {
   "cell_type": "markdown",
   "metadata": {},
   "source": [
    "Then, let's get the results from the fine-tuned BERT model."
   ]
  },
  {
   "cell_type": "code",
   "execution_count": 33,
   "metadata": {},
   "outputs": [
    {
     "data": {
      "application/vnd.jupyter.widget-view+json": {
       "model_id": "bc6613bac93b4ab5939b7e0224fc4fa3",
       "version_major": 2,
       "version_minor": 0
      },
      "text/plain": [
       "Inference:   0%|          | 0/1000 [00:00<?, ? examples/s]"
      ]
     },
     "metadata": {},
     "output_type": "display_data"
    }
   ],
   "source": [
    "finetuning_results = small_eval_dataset.map(\n",
    "    predict, \n",
    "    batched=True,\n",
    "    load_from_cache_file=False,\n",
    "    desc=\"Inference\"\n",
    ")"
   ]
  },
  {
   "cell_type": "markdown",
   "metadata": {},
   "source": [
    "Finally, let's report the final accuracy."
   ]
  },
  {
   "cell_type": "code",
   "execution_count": 37,
   "metadata": {},
   "outputs": [
    {
     "name": "stdout",
     "output_type": "stream",
     "text": [
      "Average evaluation accuracy (before fine-tuning): {'accuracy': 0.629}\n",
      "Average evaluation accuracy (after fine-tuning): {'accuracy': 0.805}\n",
      "Improvement: 17.6%\n"
     ]
    }
   ],
   "source": [
    "finetuning_accuracy = benchmark_metrics(finetuning_results)\n",
    "print(\"Average evaluation accuracy (before fine-tuning):\", accuracy)\n",
    "print(\"Average evaluation accuracy (after fine-tuning):\", finetuning_accuracy)\n",
    "print(f\"Improvement: {finetuning_accuracy['accuracy'] - accuracy['accuracy']:.1%}\")"
   ]
  },
  {
   "cell_type": "markdown",
   "metadata": {},
   "source": [
    "As you can see, fine-tuning was able boost the model performance by 17.6% for this classification task. We could do more analyses to evaluate whether or not this generalizes across all classes, but that is out of the scope of this tutorial."
   ]
  },
  {
   "cell_type": "markdown",
   "metadata": {},
   "source": [
    "## 8. Publish the model on HuggingFace\n",
    "Push the model to our HF space."
   ]
  },
  {
   "cell_type": "code",
   "execution_count": 20,
   "metadata": {},
   "outputs": [
    {
     "data": {
      "application/vnd.jupyter.widget-view+json": {
       "model_id": "434cb681a97a461f874df3c6a8c7bd80",
       "version_major": 2,
       "version_minor": 0
      },
      "text/plain": [
       "Upload 2 LFS files:   0%|          | 0/2 [00:00<?, ?it/s]"
      ]
     },
     "metadata": {},
     "output_type": "display_data"
    },
    {
     "data": {
      "application/vnd.jupyter.widget-view+json": {
       "model_id": "0f4e969df24b4b2a9aa089b9e0eb6711",
       "version_major": 2,
       "version_minor": 0
      },
      "text/plain": [
       "model.safetensors:   0%|          | 0.00/438M [00:00<?, ?B/s]"
      ]
     },
     "metadata": {},
     "output_type": "display_data"
    },
    {
     "data": {
      "application/vnd.jupyter.widget-view+json": {
       "model_id": "2e6c7f18e7034285b6fd4a8c7f0f7842",
       "version_major": 2,
       "version_minor": 0
      },
      "text/plain": [
       "training_args.bin:   0%|          | 0.00/4.98k [00:00<?, ?B/s]"
      ]
     },
     "metadata": {},
     "output_type": "display_data"
    },
    {
     "data": {
      "text/plain": [
       "CommitInfo(commit_url='https://huggingface.co/torchstack/hf-bert-finetuning/commit/6c5cc5d92fd9392520a22d397bd19ece8782182b', commit_message='End of training', commit_description='', oid='6c5cc5d92fd9392520a22d397bd19ece8782182b', pr_url=None, pr_revision=None, pr_num=None)"
      ]
     },
     "execution_count": 20,
     "metadata": {},
     "output_type": "execute_result"
    }
   ],
   "source": [
    "trainer.push_to_hub() "
   ]
  },
  {
   "cell_type": "markdown",
   "metadata": {},
   "source": [
    "## 9. MLFlow Review"
   ]
  },
  {
   "cell_type": "markdown",
   "metadata": {},
   "source": [
    "We used MLFlow to log the BERT fine-tuning process. We can now visualize the training metrics. \n",
    "\n",
    "In the `mlruns` directory, the last result was stored in the following folder below: "
   ]
  },
  {
   "cell_type": "code",
   "execution_count": 27,
   "metadata": {},
   "outputs": [],
   "source": [
    "run = \"276754823601690113/838391a96d4b45f2b7c81e25802619f9\" "
   ]
  },
  {
   "cell_type": "markdown",
   "metadata": {},
   "source": [
    "The function below will plot the metric of interest over the training unit."
   ]
  },
  {
   "cell_type": "code",
   "execution_count": 31,
   "metadata": {},
   "outputs": [],
   "source": [
    "import pandas as pd\n",
    "def plot_metric(metric_name):\n",
    "    metric = pd.read_csv(\n",
    "        f\"mlruns/{run}/metrics/{metric_name}\", sep=\" \", names=[\"timestamp\", \"value\", \"steps\"]\n",
    "    )\n",
    "    plt.plot(metric[\"steps\"], metric[\"value\"])\n",
    "    plt.xlabel(\"Training Steps\")\n",
    "    plt.ylabel(metric_name)"
   ]
  },
  {
   "cell_type": "markdown",
   "metadata": {},
   "source": [
    "Let's plot the evaluation accuracy as a function of the training steps."
   ]
  },
  {
   "cell_type": "code",
   "execution_count": 32,
   "metadata": {},
   "outputs": [
    {
     "data": {
      "image/png": "[encoded data removed]",
      "text/plain": [
       "<Figure size 640x480 with 1 Axes>"
      ]
     },
     "metadata": {},
     "output_type": "display_data"
    }
   ],
   "source": [
    "plot_metric(\"eval_accuracy\") "
   ]
  },
  {
   "cell_type": "markdown",
   "metadata": {},
   "source": [
    "Finally, we'll plot the learning rate as a function of the training step."
   ]
  },
  {
   "cell_type": "code",
   "execution_count": 33,
   "metadata": {},
   "outputs": [
    {
     "data": {
      "image/png": "[encoded data removed]",
      "text/plain": [
       "<Figure size 640x480 with 1 Axes>"
      ]
     },
     "metadata": {},
     "output_type": "display_data"
    }
   ],
   "source": [
    "plt.clf()\n",
    "plot_metric(\"learning_rate\")"
   ]
  },
  {
   "cell_type": "markdown",
   "metadata": {},
   "source": [
    "## Summary"
   ]
  },
  {
   "cell_type": "markdown",
   "metadata": {},
   "source": [
    "This tutorial covers fine-tuning a BERT model to perform sentiment analysis from the Financial Tweet Sentiment Dataset. \n",
    "\n",
    "We applied the following tools in this notebook:\n",
    "* We used the HuggingFace library to perform data processing, fine-tune the BERT model, and evaluate the accuracy between the predicted class and reference. \n",
    "* We benchmarked the naive BERT model and the fine-tuned BERT model, and we were able to boost performance by 17%.\n",
    "* We used MLFlow for model training logging, which is a useful MLOps tool."
   ]
  },
  {
   "cell_type": "markdown",
   "metadata": {},
   "source": [
    "Follow the our blog, [The Stack](https://torchstack.ai/blogs/torchstack) for more hands-on tutorials, reviews and summaries of essential AI concepts, and what we're seeing go on in the AI space. \n",
    "\n",
    "You can also check out our [GitHub](https://github.com/torchstack-ai) page for more projects and code samples.  "
   ]
  }
 ],
 "metadata": {
  "kernelspec": {
   "display_name": ".venv",
   "language": "python",
   "name": "python3"
  },
  "language_info": {
   "codemirror_mode": {
    "name": "ipython",
    "version": 3
   },
   "file_extension": ".py",
   "mimetype": "text/x-python",
   "name": "python",
   "nbconvert_exporter": "python",
   "pygments_lexer": "ipython3",
   "version": "3.10.10"
  }
 },
 "nbformat": 4,
 "nbformat_minor": 2
}
