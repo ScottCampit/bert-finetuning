{
 "cells": [
  {
   "cell_type": "markdown",
   "metadata": {},
   "source": [
    "# "
   ]
  },
  {
   "cell_type": "markdown",
   "metadata": {},
   "source": [
    "# Fine-Tuning Pre-Trained BERT Models Using the HuggingFace Library\n",
    "\n",
    "## Summary\n",
    "This notebook covers a simple use-case, where we'll be fine-tuning a BERT model using the Huggingface library."
   ]
  },
  {
   "cell_type": "code",
   "execution_count": 1,
   "metadata": {},
   "outputs": [
    {
     "name": "stdout",
     "output_type": "stream",
     "text": [
      "Looking in indexes: https://pypi.org/simple, https://pypi.ngc.nvidia.com\n",
      "Requirement already satisfied: huggingface_hub in /Users/scampit/Projects/torchstack/hf-finetuning/.venv/lib/python3.10/site-packages (0.22.2)\n",
      "Requirement already satisfied: transformers in /Users/scampit/Projects/torchstack/hf-finetuning/.venv/lib/python3.10/site-packages (4.40.1)\n",
      "Requirement already satisfied: datasets in /Users/scampit/Projects/torchstack/hf-finetuning/.venv/lib/python3.10/site-packages (2.19.0)\n",
      "Requirement already satisfied: evaluate in /Users/scampit/Projects/torchstack/hf-finetuning/.venv/lib/python3.10/site-packages (0.4.1)\n",
      "Requirement already satisfied: filelock in /Users/scampit/Projects/torchstack/hf-finetuning/.venv/lib/python3.10/site-packages (from huggingface_hub) (3.13.4)\n",
      "Requirement already satisfied: fsspec>=2023.5.0 in /Users/scampit/Projects/torchstack/hf-finetuning/.venv/lib/python3.10/site-packages (from huggingface_hub) (2024.3.1)\n",
      "Requirement already satisfied: packaging>=20.9 in /Users/scampit/Projects/torchstack/hf-finetuning/.venv/lib/python3.10/site-packages (from huggingface_hub) (24.0)\n",
      "Requirement already satisfied: pyyaml>=5.1 in /Users/scampit/Projects/torchstack/hf-finetuning/.venv/lib/python3.10/site-packages (from huggingface_hub) (6.0.1)\n",
      "Requirement already satisfied: requests in /Users/scampit/Projects/torchstack/hf-finetuning/.venv/lib/python3.10/site-packages (from huggingface_hub) (2.31.0)\n",
      "Requirement already satisfied: tqdm>=4.42.1 in /Users/scampit/Projects/torchstack/hf-finetuning/.venv/lib/python3.10/site-packages (from huggingface_hub) (4.66.2)\n",
      "Requirement already satisfied: typing-extensions>=3.7.4.3 in /Users/scampit/Projects/torchstack/hf-finetuning/.venv/lib/python3.10/site-packages (from huggingface_hub) (4.11.0)\n",
      "Requirement already satisfied: numpy>=1.17 in /Users/scampit/Projects/torchstack/hf-finetuning/.venv/lib/python3.10/site-packages (from transformers) (1.26.4)\n",
      "Requirement already satisfied: regex!=2019.12.17 in /Users/scampit/Projects/torchstack/hf-finetuning/.venv/lib/python3.10/site-packages (from transformers) (2024.4.28)\n",
      "Requirement already satisfied: tokenizers<0.20,>=0.19 in /Users/scampit/Projects/torchstack/hf-finetuning/.venv/lib/python3.10/site-packages (from transformers) (0.19.1)\n",
      "Requirement already satisfied: safetensors>=0.4.1 in /Users/scampit/Projects/torchstack/hf-finetuning/.venv/lib/python3.10/site-packages (from transformers) (0.4.3)\n",
      "Requirement already satisfied: pyarrow>=12.0.0 in /Users/scampit/Projects/torchstack/hf-finetuning/.venv/lib/python3.10/site-packages (from datasets) (15.0.2)\n",
      "Requirement already satisfied: pyarrow-hotfix in /Users/scampit/Projects/torchstack/hf-finetuning/.venv/lib/python3.10/site-packages (from datasets) (0.6)\n",
      "Requirement already satisfied: dill<0.3.9,>=0.3.0 in /Users/scampit/Projects/torchstack/hf-finetuning/.venv/lib/python3.10/site-packages (from datasets) (0.3.8)\n",
      "Requirement already satisfied: pandas in /Users/scampit/Projects/torchstack/hf-finetuning/.venv/lib/python3.10/site-packages (from datasets) (2.2.2)\n",
      "Requirement already satisfied: xxhash in /Users/scampit/Projects/torchstack/hf-finetuning/.venv/lib/python3.10/site-packages (from datasets) (3.4.1)\n",
      "Requirement already satisfied: multiprocess in /Users/scampit/Projects/torchstack/hf-finetuning/.venv/lib/python3.10/site-packages (from datasets) (0.70.16)\n",
      "Requirement already satisfied: aiohttp in /Users/scampit/Projects/torchstack/hf-finetuning/.venv/lib/python3.10/site-packages (from datasets) (3.9.5)\n",
      "Requirement already satisfied: responses<0.19 in /Users/scampit/Projects/torchstack/hf-finetuning/.venv/lib/python3.10/site-packages (from evaluate) (0.18.0)\n",
      "Requirement already satisfied: aiosignal>=1.1.2 in /Users/scampit/Projects/torchstack/hf-finetuning/.venv/lib/python3.10/site-packages (from aiohttp->datasets) (1.3.1)\n",
      "Requirement already satisfied: attrs>=17.3.0 in /Users/scampit/Projects/torchstack/hf-finetuning/.venv/lib/python3.10/site-packages (from aiohttp->datasets) (23.2.0)\n",
      "Requirement already satisfied: frozenlist>=1.1.1 in /Users/scampit/Projects/torchstack/hf-finetuning/.venv/lib/python3.10/site-packages (from aiohttp->datasets) (1.4.1)\n",
      "Requirement already satisfied: multidict<7.0,>=4.5 in /Users/scampit/Projects/torchstack/hf-finetuning/.venv/lib/python3.10/site-packages (from aiohttp->datasets) (6.0.5)\n",
      "Requirement already satisfied: yarl<2.0,>=1.0 in /Users/scampit/Projects/torchstack/hf-finetuning/.venv/lib/python3.10/site-packages (from aiohttp->datasets) (1.9.4)\n",
      "Requirement already satisfied: async-timeout<5.0,>=4.0 in /Users/scampit/Projects/torchstack/hf-finetuning/.venv/lib/python3.10/site-packages (from aiohttp->datasets) (4.0.3)\n",
      "Requirement already satisfied: charset-normalizer<4,>=2 in /Users/scampit/Projects/torchstack/hf-finetuning/.venv/lib/python3.10/site-packages (from requests->huggingface_hub) (3.3.2)\n",
      "Requirement already satisfied: idna<4,>=2.5 in /Users/scampit/Projects/torchstack/hf-finetuning/.venv/lib/python3.10/site-packages (from requests->huggingface_hub) (3.7)\n",
      "Requirement already satisfied: urllib3<3,>=1.21.1 in /Users/scampit/Projects/torchstack/hf-finetuning/.venv/lib/python3.10/site-packages (from requests->huggingface_hub) (2.2.1)\n",
      "Requirement already satisfied: certifi>=2017.4.17 in /Users/scampit/Projects/torchstack/hf-finetuning/.venv/lib/python3.10/site-packages (from requests->huggingface_hub) (2024.2.2)\n",
      "Requirement already satisfied: python-dateutil>=2.8.2 in /Users/scampit/Projects/torchstack/hf-finetuning/.venv/lib/python3.10/site-packages (from pandas->datasets) (2.9.0.post0)\n",
      "Requirement already satisfied: pytz>=2020.1 in /Users/scampit/Projects/torchstack/hf-finetuning/.venv/lib/python3.10/site-packages (from pandas->datasets) (2024.1)\n",
      "Requirement already satisfied: tzdata>=2022.7 in /Users/scampit/Projects/torchstack/hf-finetuning/.venv/lib/python3.10/site-packages (from pandas->datasets) (2024.1)\n",
      "Requirement already satisfied: six>=1.5 in /Users/scampit/Projects/torchstack/hf-finetuning/.venv/lib/python3.10/site-packages (from python-dateutil>=2.8.2->pandas->datasets) (1.16.0)\n",
      "Looking in indexes: https://pypi.org/simple, https://pypi.ngc.nvidia.com\n",
      "Requirement already satisfied: torch in /Users/scampit/Projects/torchstack/hf-finetuning/.venv/lib/python3.10/site-packages (2.3.0)\n",
      "Requirement already satisfied: torchvision in /Users/scampit/Projects/torchstack/hf-finetuning/.venv/lib/python3.10/site-packages (0.18.0)\n",
      "Requirement already satisfied: torchaudio in /Users/scampit/Projects/torchstack/hf-finetuning/.venv/lib/python3.10/site-packages (2.3.0)\n",
      "Requirement already satisfied: filelock in /Users/scampit/Projects/torchstack/hf-finetuning/.venv/lib/python3.10/site-packages (from torch) (3.13.4)\n",
      "Requirement already satisfied: typing-extensions>=4.8.0 in /Users/scampit/Projects/torchstack/hf-finetuning/.venv/lib/python3.10/site-packages (from torch) (4.11.0)\n",
      "Requirement already satisfied: sympy in /Users/scampit/Projects/torchstack/hf-finetuning/.venv/lib/python3.10/site-packages (from torch) (1.12)\n",
      "Requirement already satisfied: networkx in /Users/scampit/Projects/torchstack/hf-finetuning/.venv/lib/python3.10/site-packages (from torch) (3.3)\n",
      "Requirement already satisfied: jinja2 in /Users/scampit/Projects/torchstack/hf-finetuning/.venv/lib/python3.10/site-packages (from torch) (3.1.3)\n",
      "Requirement already satisfied: fsspec in /Users/scampit/Projects/torchstack/hf-finetuning/.venv/lib/python3.10/site-packages (from torch) (2024.3.1)\n",
      "Requirement already satisfied: numpy in /Users/scampit/Projects/torchstack/hf-finetuning/.venv/lib/python3.10/site-packages (from torchvision) (1.26.4)\n",
      "Requirement already satisfied: pillow!=8.3.*,>=5.3.0 in /Users/scampit/Projects/torchstack/hf-finetuning/.venv/lib/python3.10/site-packages (from torchvision) (10.3.0)\n",
      "Requirement already satisfied: MarkupSafe>=2.0 in /Users/scampit/Projects/torchstack/hf-finetuning/.venv/lib/python3.10/site-packages (from jinja2->torch) (2.1.5)\n",
      "Requirement already satisfied: mpmath>=0.19 in /Users/scampit/Projects/torchstack/hf-finetuning/.venv/lib/python3.10/site-packages (from sympy->torch) (1.3.0)\n",
      "Looking in indexes: https://pypi.org/simple, https://pypi.ngc.nvidia.com\n",
      "Requirement already satisfied: accelerate in /Users/scampit/Projects/torchstack/hf-finetuning/.venv/lib/python3.10/site-packages (0.29.3)\n",
      "Requirement already satisfied: numpy>=1.17 in /Users/scampit/Projects/torchstack/hf-finetuning/.venv/lib/python3.10/site-packages (from accelerate) (1.26.4)\n",
      "Requirement already satisfied: packaging>=20.0 in /Users/scampit/Projects/torchstack/hf-finetuning/.venv/lib/python3.10/site-packages (from accelerate) (24.0)\n",
      "Requirement already satisfied: psutil in /Users/scampit/Projects/torchstack/hf-finetuning/.venv/lib/python3.10/site-packages (from accelerate) (5.9.8)\n",
      "Requirement already satisfied: pyyaml in /Users/scampit/Projects/torchstack/hf-finetuning/.venv/lib/python3.10/site-packages (from accelerate) (6.0.1)\n",
      "Requirement already satisfied: torch>=1.10.0 in /Users/scampit/Projects/torchstack/hf-finetuning/.venv/lib/python3.10/site-packages (from accelerate) (2.3.0)\n",
      "Requirement already satisfied: huggingface-hub in /Users/scampit/Projects/torchstack/hf-finetuning/.venv/lib/python3.10/site-packages (from accelerate) (0.22.2)\n",
      "Requirement already satisfied: safetensors>=0.3.1 in /Users/scampit/Projects/torchstack/hf-finetuning/.venv/lib/python3.10/site-packages (from accelerate) (0.4.3)\n",
      "Requirement already satisfied: filelock in /Users/scampit/Projects/torchstack/hf-finetuning/.venv/lib/python3.10/site-packages (from torch>=1.10.0->accelerate) (3.13.4)\n",
      "Requirement already satisfied: typing-extensions>=4.8.0 in /Users/scampit/Projects/torchstack/hf-finetuning/.venv/lib/python3.10/site-packages (from torch>=1.10.0->accelerate) (4.11.0)\n",
      "Requirement already satisfied: sympy in /Users/scampit/Projects/torchstack/hf-finetuning/.venv/lib/python3.10/site-packages (from torch>=1.10.0->accelerate) (1.12)\n",
      "Requirement already satisfied: networkx in /Users/scampit/Projects/torchstack/hf-finetuning/.venv/lib/python3.10/site-packages (from torch>=1.10.0->accelerate) (3.3)\n",
      "Requirement already satisfied: jinja2 in /Users/scampit/Projects/torchstack/hf-finetuning/.venv/lib/python3.10/site-packages (from torch>=1.10.0->accelerate) (3.1.3)\n",
      "Requirement already satisfied: fsspec in /Users/scampit/Projects/torchstack/hf-finetuning/.venv/lib/python3.10/site-packages (from torch>=1.10.0->accelerate) (2024.3.1)\n",
      "Requirement already satisfied: requests in /Users/scampit/Projects/torchstack/hf-finetuning/.venv/lib/python3.10/site-packages (from huggingface-hub->accelerate) (2.31.0)\n",
      "Requirement already satisfied: tqdm>=4.42.1 in /Users/scampit/Projects/torchstack/hf-finetuning/.venv/lib/python3.10/site-packages (from huggingface-hub->accelerate) (4.66.2)\n",
      "Requirement already satisfied: MarkupSafe>=2.0 in /Users/scampit/Projects/torchstack/hf-finetuning/.venv/lib/python3.10/site-packages (from jinja2->torch>=1.10.0->accelerate) (2.1.5)\n",
      "Requirement already satisfied: charset-normalizer<4,>=2 in /Users/scampit/Projects/torchstack/hf-finetuning/.venv/lib/python3.10/site-packages (from requests->huggingface-hub->accelerate) (3.3.2)\n",
      "Requirement already satisfied: idna<4,>=2.5 in /Users/scampit/Projects/torchstack/hf-finetuning/.venv/lib/python3.10/site-packages (from requests->huggingface-hub->accelerate) (3.7)\n",
      "Requirement already satisfied: urllib3<3,>=1.21.1 in /Users/scampit/Projects/torchstack/hf-finetuning/.venv/lib/python3.10/site-packages (from requests->huggingface-hub->accelerate) (2.2.1)\n",
      "Requirement already satisfied: certifi>=2017.4.17 in /Users/scampit/Projects/torchstack/hf-finetuning/.venv/lib/python3.10/site-packages (from requests->huggingface-hub->accelerate) (2024.2.2)\n",
      "Requirement already satisfied: mpmath>=0.19 in /Users/scampit/Projects/torchstack/hf-finetuning/.venv/lib/python3.10/site-packages (from sympy->torch>=1.10.0->accelerate) (1.3.0)\n",
      "Looking in indexes: https://pypi.org/simple, https://pypi.ngc.nvidia.com\n",
      "Requirement already satisfied: scikit-learn in /Users/scampit/Projects/torchstack/hf-finetuning/.venv/lib/python3.10/site-packages (1.4.2)\n",
      "Requirement already satisfied: numpy>=1.19.5 in /Users/scampit/Projects/torchstack/hf-finetuning/.venv/lib/python3.10/site-packages (from scikit-learn) (1.26.4)\n",
      "Requirement already satisfied: scipy>=1.6.0 in /Users/scampit/Projects/torchstack/hf-finetuning/.venv/lib/python3.10/site-packages (from scikit-learn) (1.13.0)\n",
      "Requirement already satisfied: joblib>=1.2.0 in /Users/scampit/Projects/torchstack/hf-finetuning/.venv/lib/python3.10/site-packages (from scikit-learn) (1.4.0)\n",
      "Requirement already satisfied: threadpoolctl>=2.0.0 in /Users/scampit/Projects/torchstack/hf-finetuning/.venv/lib/python3.10/site-packages (from scikit-learn) (3.4.0)\n",
      "Looking in indexes: https://pypi.org/simple, https://pypi.ngc.nvidia.com\n",
      "Requirement already satisfied: mlflow in /Users/scampit/Projects/torchstack/hf-finetuning/.venv/lib/python3.10/site-packages (2.12.1)\n",
      "Requirement already satisfied: Flask<4 in /Users/scampit/Projects/torchstack/hf-finetuning/.venv/lib/python3.10/site-packages (from mlflow) (3.0.3)\n",
      "Requirement already satisfied: alembic!=1.10.0,<2 in /Users/scampit/Projects/torchstack/hf-finetuning/.venv/lib/python3.10/site-packages (from mlflow) (1.13.1)\n",
      "Requirement already satisfied: click<9,>=7.0 in /Users/scampit/Projects/torchstack/hf-finetuning/.venv/lib/python3.10/site-packages (from mlflow) (8.1.7)\n",
      "Requirement already satisfied: cloudpickle<4 in /Users/scampit/Projects/torchstack/hf-finetuning/.venv/lib/python3.10/site-packages (from mlflow) (3.0.0)\n",
      "Requirement already satisfied: docker<8,>=4.0.0 in /Users/scampit/Projects/torchstack/hf-finetuning/.venv/lib/python3.10/site-packages (from mlflow) (7.0.0)\n",
      "Requirement already satisfied: entrypoints<1 in /Users/scampit/Projects/torchstack/hf-finetuning/.venv/lib/python3.10/site-packages (from mlflow) (0.4)\n",
      "Requirement already satisfied: gitpython<4,>=3.1.9 in /Users/scampit/Projects/torchstack/hf-finetuning/.venv/lib/python3.10/site-packages (from mlflow) (3.1.43)\n",
      "Requirement already satisfied: graphene<4 in /Users/scampit/Projects/torchstack/hf-finetuning/.venv/lib/python3.10/site-packages (from mlflow) (3.3)\n",
      "Requirement already satisfied: importlib-metadata!=4.7.0,<8,>=3.7.0 in /Users/scampit/Projects/torchstack/hf-finetuning/.venv/lib/python3.10/site-packages (from mlflow) (7.1.0)\n",
      "Requirement already satisfied: markdown<4,>=3.3 in /Users/scampit/Projects/torchstack/hf-finetuning/.venv/lib/python3.10/site-packages (from mlflow) (3.6)\n",
      "Requirement already satisfied: matplotlib<4 in /Users/scampit/Projects/torchstack/hf-finetuning/.venv/lib/python3.10/site-packages (from mlflow) (3.8.4)\n",
      "Requirement already satisfied: numpy<2 in /Users/scampit/Projects/torchstack/hf-finetuning/.venv/lib/python3.10/site-packages (from mlflow) (1.26.4)\n",
      "Requirement already satisfied: packaging<25 in /Users/scampit/Projects/torchstack/hf-finetuning/.venv/lib/python3.10/site-packages (from mlflow) (24.0)\n",
      "Requirement already satisfied: pandas<3 in /Users/scampit/Projects/torchstack/hf-finetuning/.venv/lib/python3.10/site-packages (from mlflow) (2.2.2)\n",
      "Requirement already satisfied: protobuf<6,>=3.12.0 in /Users/scampit/Projects/torchstack/hf-finetuning/.venv/lib/python3.10/site-packages (from mlflow) (5.26.1)\n",
      "Requirement already satisfied: pyarrow<16,>=4.0.0 in /Users/scampit/Projects/torchstack/hf-finetuning/.venv/lib/python3.10/site-packages (from mlflow) (15.0.2)\n",
      "Requirement already satisfied: pytz<2025 in /Users/scampit/Projects/torchstack/hf-finetuning/.venv/lib/python3.10/site-packages (from mlflow) (2024.1)\n",
      "Requirement already satisfied: pyyaml<7,>=5.1 in /Users/scampit/Projects/torchstack/hf-finetuning/.venv/lib/python3.10/site-packages (from mlflow) (6.0.1)\n",
      "Requirement already satisfied: querystring-parser<2 in /Users/scampit/Projects/torchstack/hf-finetuning/.venv/lib/python3.10/site-packages (from mlflow) (1.2.4)\n",
      "Requirement already satisfied: requests<3,>=2.17.3 in /Users/scampit/Projects/torchstack/hf-finetuning/.venv/lib/python3.10/site-packages (from mlflow) (2.31.0)\n",
      "Requirement already satisfied: scikit-learn<2 in /Users/scampit/Projects/torchstack/hf-finetuning/.venv/lib/python3.10/site-packages (from mlflow) (1.4.2)\n",
      "Requirement already satisfied: scipy<2 in /Users/scampit/Projects/torchstack/hf-finetuning/.venv/lib/python3.10/site-packages (from mlflow) (1.13.0)\n",
      "Requirement already satisfied: sqlalchemy<3,>=1.4.0 in /Users/scampit/Projects/torchstack/hf-finetuning/.venv/lib/python3.10/site-packages (from mlflow) (2.0.29)\n",
      "Requirement already satisfied: sqlparse<1,>=0.4.0 in /Users/scampit/Projects/torchstack/hf-finetuning/.venv/lib/python3.10/site-packages (from mlflow) (0.5.0)\n",
      "Requirement already satisfied: Jinja2<4,>=2.11 in /Users/scampit/Projects/torchstack/hf-finetuning/.venv/lib/python3.10/site-packages (from mlflow) (3.1.3)\n",
      "Requirement already satisfied: gunicorn<22 in /Users/scampit/Projects/torchstack/hf-finetuning/.venv/lib/python3.10/site-packages (from mlflow) (21.2.0)\n",
      "Requirement already satisfied: Mako in /Users/scampit/Projects/torchstack/hf-finetuning/.venv/lib/python3.10/site-packages (from alembic!=1.10.0,<2->mlflow) (1.3.3)\n",
      "Requirement already satisfied: typing-extensions>=4 in /Users/scampit/Projects/torchstack/hf-finetuning/.venv/lib/python3.10/site-packages (from alembic!=1.10.0,<2->mlflow) (4.11.0)\n",
      "Requirement already satisfied: urllib3>=1.26.0 in /Users/scampit/Projects/torchstack/hf-finetuning/.venv/lib/python3.10/site-packages (from docker<8,>=4.0.0->mlflow) (2.2.1)\n",
      "Requirement already satisfied: Werkzeug>=3.0.0 in /Users/scampit/Projects/torchstack/hf-finetuning/.venv/lib/python3.10/site-packages (from Flask<4->mlflow) (3.0.2)\n",
      "Requirement already satisfied: itsdangerous>=2.1.2 in /Users/scampit/Projects/torchstack/hf-finetuning/.venv/lib/python3.10/site-packages (from Flask<4->mlflow) (2.2.0)\n",
      "Requirement already satisfied: blinker>=1.6.2 in /Users/scampit/Projects/torchstack/hf-finetuning/.venv/lib/python3.10/site-packages (from Flask<4->mlflow) (1.8.1)\n",
      "Requirement already satisfied: gitdb<5,>=4.0.1 in /Users/scampit/Projects/torchstack/hf-finetuning/.venv/lib/python3.10/site-packages (from gitpython<4,>=3.1.9->mlflow) (4.0.11)\n",
      "Requirement already satisfied: graphql-core<3.3,>=3.1 in /Users/scampit/Projects/torchstack/hf-finetuning/.venv/lib/python3.10/site-packages (from graphene<4->mlflow) (3.2.3)\n",
      "Requirement already satisfied: graphql-relay<3.3,>=3.1 in /Users/scampit/Projects/torchstack/hf-finetuning/.venv/lib/python3.10/site-packages (from graphene<4->mlflow) (3.2.0)\n",
      "Requirement already satisfied: aniso8601<10,>=8 in /Users/scampit/Projects/torchstack/hf-finetuning/.venv/lib/python3.10/site-packages (from graphene<4->mlflow) (9.0.1)\n",
      "Requirement already satisfied: zipp>=0.5 in /Users/scampit/Projects/torchstack/hf-finetuning/.venv/lib/python3.10/site-packages (from importlib-metadata!=4.7.0,<8,>=3.7.0->mlflow) (3.18.1)\n",
      "Requirement already satisfied: MarkupSafe>=2.0 in /Users/scampit/Projects/torchstack/hf-finetuning/.venv/lib/python3.10/site-packages (from Jinja2<4,>=2.11->mlflow) (2.1.5)\n",
      "Requirement already satisfied: contourpy>=1.0.1 in /Users/scampit/Projects/torchstack/hf-finetuning/.venv/lib/python3.10/site-packages (from matplotlib<4->mlflow) (1.2.1)\n",
      "Requirement already satisfied: cycler>=0.10 in /Users/scampit/Projects/torchstack/hf-finetuning/.venv/lib/python3.10/site-packages (from matplotlib<4->mlflow) (0.12.1)\n",
      "Requirement already satisfied: fonttools>=4.22.0 in /Users/scampit/Projects/torchstack/hf-finetuning/.venv/lib/python3.10/site-packages (from matplotlib<4->mlflow) (4.51.0)\n",
      "Requirement already satisfied: kiwisolver>=1.3.1 in /Users/scampit/Projects/torchstack/hf-finetuning/.venv/lib/python3.10/site-packages (from matplotlib<4->mlflow) (1.4.5)\n",
      "Requirement already satisfied: pillow>=8 in /Users/scampit/Projects/torchstack/hf-finetuning/.venv/lib/python3.10/site-packages (from matplotlib<4->mlflow) (10.3.0)\n",
      "Requirement already satisfied: pyparsing>=2.3.1 in /Users/scampit/Projects/torchstack/hf-finetuning/.venv/lib/python3.10/site-packages (from matplotlib<4->mlflow) (3.1.2)\n",
      "Requirement already satisfied: python-dateutil>=2.7 in /Users/scampit/Projects/torchstack/hf-finetuning/.venv/lib/python3.10/site-packages (from matplotlib<4->mlflow) (2.9.0.post0)\n",
      "Requirement already satisfied: tzdata>=2022.7 in /Users/scampit/Projects/torchstack/hf-finetuning/.venv/lib/python3.10/site-packages (from pandas<3->mlflow) (2024.1)\n",
      "Requirement already satisfied: six in /Users/scampit/Projects/torchstack/hf-finetuning/.venv/lib/python3.10/site-packages (from querystring-parser<2->mlflow) (1.16.0)\n",
      "Requirement already satisfied: charset-normalizer<4,>=2 in /Users/scampit/Projects/torchstack/hf-finetuning/.venv/lib/python3.10/site-packages (from requests<3,>=2.17.3->mlflow) (3.3.2)\n",
      "Requirement already satisfied: idna<4,>=2.5 in /Users/scampit/Projects/torchstack/hf-finetuning/.venv/lib/python3.10/site-packages (from requests<3,>=2.17.3->mlflow) (3.7)\n",
      "Requirement already satisfied: certifi>=2017.4.17 in /Users/scampit/Projects/torchstack/hf-finetuning/.venv/lib/python3.10/site-packages (from requests<3,>=2.17.3->mlflow) (2024.2.2)\n",
      "Requirement already satisfied: joblib>=1.2.0 in /Users/scampit/Projects/torchstack/hf-finetuning/.venv/lib/python3.10/site-packages (from scikit-learn<2->mlflow) (1.4.0)\n",
      "Requirement already satisfied: threadpoolctl>=2.0.0 in /Users/scampit/Projects/torchstack/hf-finetuning/.venv/lib/python3.10/site-packages (from scikit-learn<2->mlflow) (3.4.0)\n",
      "Requirement already satisfied: smmap<6,>=3.0.1 in /Users/scampit/Projects/torchstack/hf-finetuning/.venv/lib/python3.10/site-packages (from gitdb<5,>=4.0.1->gitpython<4,>=3.1.9->mlflow) (5.0.1)\n",
      "Looking in indexes: https://pypi.org/simple, https://pypi.ngc.nvidia.com\n",
      "Requirement already satisfied: ipywidgets in /Users/scampit/Projects/torchstack/hf-finetuning/.venv/lib/python3.10/site-packages (8.1.2)\n",
      "Requirement already satisfied: comm>=0.1.3 in /Users/scampit/Projects/torchstack/hf-finetuning/.venv/lib/python3.10/site-packages (from ipywidgets) (0.2.2)\n",
      "Requirement already satisfied: ipython>=6.1.0 in /Users/scampit/Projects/torchstack/hf-finetuning/.venv/lib/python3.10/site-packages (from ipywidgets) (8.24.0)\n",
      "Requirement already satisfied: traitlets>=4.3.1 in /Users/scampit/Projects/torchstack/hf-finetuning/.venv/lib/python3.10/site-packages (from ipywidgets) (5.14.3)\n",
      "Requirement already satisfied: widgetsnbextension~=4.0.10 in /Users/scampit/Projects/torchstack/hf-finetuning/.venv/lib/python3.10/site-packages (from ipywidgets) (4.0.10)\n",
      "Requirement already satisfied: jupyterlab-widgets~=3.0.10 in /Users/scampit/Projects/torchstack/hf-finetuning/.venv/lib/python3.10/site-packages (from ipywidgets) (3.0.10)\n",
      "Requirement already satisfied: decorator in /Users/scampit/Projects/torchstack/hf-finetuning/.venv/lib/python3.10/site-packages (from ipython>=6.1.0->ipywidgets) (5.1.1)\n",
      "Requirement already satisfied: jedi>=0.16 in /Users/scampit/Projects/torchstack/hf-finetuning/.venv/lib/python3.10/site-packages (from ipython>=6.1.0->ipywidgets) (0.19.1)\n",
      "Requirement already satisfied: matplotlib-inline in /Users/scampit/Projects/torchstack/hf-finetuning/.venv/lib/python3.10/site-packages (from ipython>=6.1.0->ipywidgets) (0.1.7)\n",
      "Requirement already satisfied: prompt-toolkit<3.1.0,>=3.0.41 in /Users/scampit/Projects/torchstack/hf-finetuning/.venv/lib/python3.10/site-packages (from ipython>=6.1.0->ipywidgets) (3.0.43)\n",
      "Requirement already satisfied: pygments>=2.4.0 in /Users/scampit/Projects/torchstack/hf-finetuning/.venv/lib/python3.10/site-packages (from ipython>=6.1.0->ipywidgets) (2.17.2)\n",
      "Requirement already satisfied: stack-data in /Users/scampit/Projects/torchstack/hf-finetuning/.venv/lib/python3.10/site-packages (from ipython>=6.1.0->ipywidgets) (0.6.3)\n",
      "Requirement already satisfied: exceptiongroup in /Users/scampit/Projects/torchstack/hf-finetuning/.venv/lib/python3.10/site-packages (from ipython>=6.1.0->ipywidgets) (1.2.1)\n",
      "Requirement already satisfied: typing-extensions>=4.6 in /Users/scampit/Projects/torchstack/hf-finetuning/.venv/lib/python3.10/site-packages (from ipython>=6.1.0->ipywidgets) (4.11.0)\n",
      "Requirement already satisfied: pexpect>4.3 in /Users/scampit/Projects/torchstack/hf-finetuning/.venv/lib/python3.10/site-packages (from ipython>=6.1.0->ipywidgets) (4.9.0)\n",
      "Requirement already satisfied: parso<0.9.0,>=0.8.3 in /Users/scampit/Projects/torchstack/hf-finetuning/.venv/lib/python3.10/site-packages (from jedi>=0.16->ipython>=6.1.0->ipywidgets) (0.8.4)\n",
      "Requirement already satisfied: ptyprocess>=0.5 in /Users/scampit/Projects/torchstack/hf-finetuning/.venv/lib/python3.10/site-packages (from pexpect>4.3->ipython>=6.1.0->ipywidgets) (0.7.0)\n",
      "Requirement already satisfied: wcwidth in /Users/scampit/Projects/torchstack/hf-finetuning/.venv/lib/python3.10/site-packages (from prompt-toolkit<3.1.0,>=3.0.41->ipython>=6.1.0->ipywidgets) (0.2.13)\n",
      "Requirement already satisfied: executing>=1.2.0 in /Users/scampit/Projects/torchstack/hf-finetuning/.venv/lib/python3.10/site-packages (from stack-data->ipython>=6.1.0->ipywidgets) (2.0.1)\n",
      "Requirement already satisfied: asttokens>=2.1.0 in /Users/scampit/Projects/torchstack/hf-finetuning/.venv/lib/python3.10/site-packages (from stack-data->ipython>=6.1.0->ipywidgets) (2.4.1)\n",
      "Requirement already satisfied: pure-eval in /Users/scampit/Projects/torchstack/hf-finetuning/.venv/lib/python3.10/site-packages (from stack-data->ipython>=6.1.0->ipywidgets) (0.2.2)\n",
      "Requirement already satisfied: six>=1.12.0 in /Users/scampit/Projects/torchstack/hf-finetuning/.venv/lib/python3.10/site-packages (from asttokens>=2.1.0->stack-data->ipython>=6.1.0->ipywidgets) (1.16.0)\n",
      "Looking in indexes: https://pypi.org/simple, https://pypi.ngc.nvidia.com\n",
      "Requirement already satisfied: huggingface_hub in /Users/scampit/Projects/torchstack/hf-finetuning/.venv/lib/python3.10/site-packages (0.22.2)\n",
      "Requirement already satisfied: filelock in /Users/scampit/Projects/torchstack/hf-finetuning/.venv/lib/python3.10/site-packages (from huggingface_hub) (3.13.4)\n",
      "Requirement already satisfied: fsspec>=2023.5.0 in /Users/scampit/Projects/torchstack/hf-finetuning/.venv/lib/python3.10/site-packages (from huggingface_hub) (2024.3.1)\n",
      "Requirement already satisfied: packaging>=20.9 in /Users/scampit/Projects/torchstack/hf-finetuning/.venv/lib/python3.10/site-packages (from huggingface_hub) (24.0)\n",
      "Requirement already satisfied: pyyaml>=5.1 in /Users/scampit/Projects/torchstack/hf-finetuning/.venv/lib/python3.10/site-packages (from huggingface_hub) (6.0.1)\n",
      "Requirement already satisfied: requests in /Users/scampit/Projects/torchstack/hf-finetuning/.venv/lib/python3.10/site-packages (from huggingface_hub) (2.31.0)\n",
      "Requirement already satisfied: tqdm>=4.42.1 in /Users/scampit/Projects/torchstack/hf-finetuning/.venv/lib/python3.10/site-packages (from huggingface_hub) (4.66.2)\n",
      "Requirement already satisfied: typing-extensions>=3.7.4.3 in /Users/scampit/Projects/torchstack/hf-finetuning/.venv/lib/python3.10/site-packages (from huggingface_hub) (4.11.0)\n",
      "Requirement already satisfied: charset-normalizer<4,>=2 in /Users/scampit/Projects/torchstack/hf-finetuning/.venv/lib/python3.10/site-packages (from requests->huggingface_hub) (3.3.2)\n",
      "Requirement already satisfied: idna<4,>=2.5 in /Users/scampit/Projects/torchstack/hf-finetuning/.venv/lib/python3.10/site-packages (from requests->huggingface_hub) (3.7)\n",
      "Requirement already satisfied: urllib3<3,>=1.21.1 in /Users/scampit/Projects/torchstack/hf-finetuning/.venv/lib/python3.10/site-packages (from requests->huggingface_hub) (2.2.1)\n",
      "Requirement already satisfied: certifi>=2017.4.17 in /Users/scampit/Projects/torchstack/hf-finetuning/.venv/lib/python3.10/site-packages (from requests->huggingface_hub) (2024.2.2)\n"
     ]
    }
   ],
   "source": [
    "#%%capture \n",
    "!pip install huggingface_hub transformers datasets evaluate\n",
    "!pip install torch torchvision torchaudio\n",
    "!pip install accelerate -U\n",
    "!pip install scikit-learn\n",
    "!pip install mlflow\n",
    "!pip install ipywidgets\n",
    "!pip install huggingface_hub"
   ]
  },
  {
   "cell_type": "code",
   "execution_count": 2,
   "metadata": {},
   "outputs": [],
   "source": [
    "import os\n",
    "import numpy as np\n",
    "\n",
    "from transformers import AutoTokenizer, AutoModelForSequenceClassification, TrainingArguments, Trainer\n",
    "from datasets import load_dataset, load_metric\n",
    "from huggingface_hub import notebook_login\n",
    "import matplotlib.pyplot as plt\n",
    "import evaluate\n",
    "import mlflow"
   ]
  },
  {
   "cell_type": "code",
   "execution_count": 3,
   "metadata": {},
   "outputs": [],
   "source": [
    "%matplotlib inline "
   ]
  },
  {
   "cell_type": "markdown",
   "metadata": {},
   "source": [
    "## 1. Load the dataset\n",
    "We'll be using the Yelp review dataset and fine-tuning the BERT model on it. Let's load the dataset and view a single data point."
   ]
  },
  {
   "cell_type": "code",
   "execution_count": 4,
   "metadata": {},
   "outputs": [
    {
     "data": {
      "text/plain": [
       "{'label': 0,\n",
       " 'text': 'My expectations for McDonalds are t rarely high. But for one to still fail so spectacularly...that takes something special!\\\\nThe cashier took my friends\\'s order, then promptly ignored me. I had to force myself in front of a cashier who opened his register to wait on the person BEHIND me. I waited over five minutes for a gigantic order that included precisely one kid\\'s meal. After watching two people who ordered after me be handed their food, I asked where mine was. The manager started yelling at the cashiers for \\\\\"serving off their orders\\\\\" when they didn\\'t have their food. But neither cashier was anywhere near those controls, and the manager was the one serving food to customers and clearing the boards.\\\\nThe manager was rude when giving me my order. She didn\\'t make sure that I had everything ON MY RECEIPT, and never even had the decency to apologize that I felt I was getting poor service.\\\\nI\\'ve eaten at various McDonalds restaurants for over 30 years. I\\'ve worked at more than one location. I expect bad days, bad moods, and the occasional mistake. But I have yet to have a decent experience at this store. It will remain a place I avoid unless someone in my party needs to avoid illness from low blood sugar. Perhaps I should go back to the racially biased service of Steak n Shake instead!'}"
      ]
     },
     "execution_count": 4,
     "metadata": {},
     "output_type": "execute_result"
    }
   ],
   "source": [
    "dataset = load_dataset(\"yelp_review_full\")\n",
    "dataset[\"train\"][100]"
   ]
  },
  {
   "cell_type": "markdown",
   "metadata": {},
   "source": [
    "## 2. Process the dataset\n",
    "Next, we need to tokenize the dataset. We'll be using the BERT cased tokenizer to do this."
   ]
  },
  {
   "cell_type": "code",
   "execution_count": 6,
   "metadata": {},
   "outputs": [],
   "source": [
    "def tokenize_function(examples):\n",
    "    return tokenizer(examples[\"text\"], padding=\"max_length\", truncation=True)\n",
    "tokenizer = AutoTokenizer.from_pretrained(\"google-bert/bert-base-cased\")\n",
    "tokenized_datasets = dataset.map(tokenize_function, batched=True)"
   ]
  },
  {
   "cell_type": "markdown",
   "metadata": {},
   "source": [
    "Since this notebook is simply designed to demonstrate how to fine-tune a cased BERT model, we'll select 1000 random examples for the fine-tuning and evaluation step."
   ]
  },
  {
   "cell_type": "code",
   "execution_count": 7,
   "metadata": {},
   "outputs": [],
   "source": [
    "small_train_dataset = tokenized_datasets[\"train\"].shuffle(seed=42).select(range(1000))\n",
    "small_eval_dataset = tokenized_datasets[\"test\"].shuffle(seed=42).select(range(1000))"
   ]
  },
  {
   "cell_type": "markdown",
   "metadata": {},
   "source": [
    "## 3. Load BERT\n",
    "We'll load the BERT model from the Huggingface library. Note that this model has 5 labels."
   ]
  },
  {
   "cell_type": "code",
   "execution_count": 8,
   "metadata": {},
   "outputs": [
    {
     "name": "stderr",
     "output_type": "stream",
     "text": [
      "Some weights of BertForSequenceClassification were not initialized from the model checkpoint at google-bert/bert-base-cased and are newly initialized: ['classifier.bias', 'classifier.weight']\n",
      "You should probably TRAIN this model on a down-stream task to be able to use it for predictions and inference.\n"
     ]
    }
   ],
   "source": [
    "model = AutoModelForSequenceClassification.from_pretrained(\"google-bert/bert-base-cased\", num_labels=5)"
   ]
  },
  {
   "cell_type": "markdown",
   "metadata": {},
   "source": [
    "We'll also set up the training arguments. This model will be pushed to the hf-bert-finetuning repository on HF."
   ]
  },
  {
   "cell_type": "code",
   "execution_count": 9,
   "metadata": {},
   "outputs": [],
   "source": [
    "training_args = TrainingArguments(\n",
    "    hub_model_id=\"hf-bert-finetuning\",\n",
    "    do_train=True,\n",
    "    output_dir=\"bert-yelp\",\n",
    "    num_train_epochs=300,\n",
    "    evaluation_strategy=\"steps\",\n",
    "    save_strategy=\"steps\",\n",
    "    load_best_model_at_end=True,\n",
    ")"
   ]
  },
  {
   "cell_type": "markdown",
   "metadata": {},
   "source": [
    "## Set up metrics that will be used during BERT fine-tuning\n",
    "We'll treat this as a classification problem, and be tracing the accuracy of the model."
   ]
  },
  {
   "cell_type": "code",
   "execution_count": 10,
   "metadata": {},
   "outputs": [],
   "source": [
    "metric = evaluate.load(\"accuracy\")"
   ]
  },
  {
   "cell_type": "markdown",
   "metadata": {},
   "source": [
    "The following wrapper calculates the accuracy between the model output and the reference labels."
   ]
  },
  {
   "cell_type": "code",
   "execution_count": 11,
   "metadata": {},
   "outputs": [],
   "source": [
    "def compute_metrics(eval_pred):\n",
    "    logits, labels = eval_pred\n",
    "    predictions = np.argmax(logits, axis=-1)\n",
    "    return metric.compute(predictions=predictions, references=labels)"
   ]
  },
  {
   "cell_type": "markdown",
   "metadata": {},
   "source": [
    "## Set up BERT model training\n",
    "Finally we'll set up a model Trainer object for BERT."
   ]
  },
  {
   "cell_type": "code",
   "execution_count": 12,
   "metadata": {},
   "outputs": [],
   "source": [
    "trainer = Trainer(\n",
    "    model=model,\n",
    "    args=training_args,\n",
    "    train_dataset=small_train_dataset,\n",
    "    eval_dataset=small_eval_dataset,\n",
    "    compute_metrics=compute_metrics,\n",
    ")"
   ]
  },
  {
   "cell_type": "markdown",
   "metadata": {},
   "source": [
    "## Fine-tune the BERT model\n",
    "We'll be tracing the results using the MLFlow library."
   ]
  },
  {
   "cell_type": "code",
   "execution_count": 13,
   "metadata": {},
   "outputs": [
    {
     "name": "stderr",
     "output_type": "stream",
     "text": [
      "2024/04/28 16:38:26 INFO mlflow.tracking.fluent: Experiment with name 'bert-yelp-hf-finetuning' does not exist. Creating a new experiment.\n"
     ]
    },
    {
     "data": {
      "application/vnd.jupyter.widget-view+json": {
       "model_id": "393a8616031c4ddd860cc1b2595871c0",
       "version_major": 2,
       "version_minor": 0
      },
      "text/plain": [
       "  0%|          | 0/37500 [00:00<?, ?it/s]"
      ]
     },
     "metadata": {},
     "output_type": "display_data"
    },
    {
     "name": "stdout",
     "output_type": "stream",
     "text": [
      "{'loss': 0.9954, 'grad_norm': 10.145700454711914, 'learning_rate': 4.933333333333334e-05, 'epoch': 4.0}\n"
     ]
    },
    {
     "data": {
      "application/vnd.jupyter.widget-view+json": {
       "model_id": "2689acfd2f424abb9ce8aea0b035ffc1",
       "version_major": 2,
       "version_minor": 0
      },
      "text/plain": [
       "  0%|          | 0/125 [00:00<?, ?it/s]"
      ]
     },
     "metadata": {},
     "output_type": "display_data"
    },
    {
     "name": "stdout",
     "output_type": "stream",
     "text": [
      "{'eval_loss': 1.3348311185836792, 'eval_accuracy': 0.51, 'eval_runtime': 18.9848, 'eval_samples_per_second': 52.674, 'eval_steps_per_second': 6.584, 'epoch': 4.0}\n",
      "{'loss': 0.3575, 'grad_norm': 40.292293548583984, 'learning_rate': 4.866666666666667e-05, 'epoch': 8.0}\n"
     ]
    },
    {
     "data": {
      "application/vnd.jupyter.widget-view+json": {
       "model_id": "5b8ff74af9884b82b267f26d8514ed35",
       "version_major": 2,
       "version_minor": 0
      },
      "text/plain": [
       "  0%|          | 0/125 [00:00<?, ?it/s]"
      ]
     },
     "metadata": {},
     "output_type": "display_data"
    },
    {
     "name": "stdout",
     "output_type": "stream",
     "text": [
      "{'eval_loss': 2.409299373626709, 'eval_accuracy': 0.488, 'eval_runtime': 17.871, 'eval_samples_per_second': 55.957, 'eval_steps_per_second': 6.995, 'epoch': 8.0}\n"
     ]
    }
   ],
   "source": [
    "os.environ[\"MLFLOW_EXPERIMENT_NAME\"] = \"bert-yelp-hf-finetuning\"\n",
    "os.environ[\"MLFLOW_FLATTEN_PARAMS\"] = \"1\"\n",
    "\n",
    "trainer.train()\n",
    "mlflow.end_run()"
   ]
  },
  {
   "cell_type": "markdown",
   "metadata": {},
   "source": [
    "Push the model to our HF space."
   ]
  },
  {
   "cell_type": "code",
   "execution_count": null,
   "metadata": {},
   "outputs": [],
   "source": [
    "trainer.push_to_hub() "
   ]
  },
  {
   "cell_type": "code",
   "execution_count": null,
   "metadata": {},
   "outputs": [],
   "source": [
    " !ls -l mlruns/1"
   ]
  },
  {
   "cell_type": "code",
   "execution_count": null,
   "metadata": {},
   "outputs": [],
   "source": [
    "run = \"1/1a4ab6fd80784bd6a83b447fd01a45ca\" "
   ]
  },
  {
   "cell_type": "code",
   "execution_count": null,
   "metadata": {},
   "outputs": [],
   "source": [
    "def plot_metric(metric_name):\n",
    "    metric = pd.read_csv(\n",
    "        f\"mlruns/{run}/metrics/{metric_name}\", sep=\" \", names=[\"timestamp\", \"value\", \"steps\"]\n",
    "    )\n",
    "    plt.plot(metric[\"steps\"], metric[\"value\"])"
   ]
  },
  {
   "cell_type": "code",
   "execution_count": null,
   "metadata": {},
   "outputs": [],
   "source": [
    "plot_metric(\"loss\") "
   ]
  },
  {
   "cell_type": "code",
   "execution_count": null,
   "metadata": {},
   "outputs": [],
   "source": [
    "plt.clf()\n",
    "plot_metric(\"learning_rate\")"
   ]
  }
 ],
 "metadata": {
  "kernelspec": {
   "display_name": ".venv",
   "language": "python",
   "name": "python3"
  },
  "language_info": {
   "codemirror_mode": {
    "name": "ipython",
    "version": 3
   },
   "file_extension": ".py",
   "mimetype": "text/x-python",
   "name": "python",
   "nbconvert_exporter": "python",
   "pygments_lexer": "ipython3",
   "version": "3.10.10"
  }
 },
 "nbformat": 4,
 "nbformat_minor": 2
}
